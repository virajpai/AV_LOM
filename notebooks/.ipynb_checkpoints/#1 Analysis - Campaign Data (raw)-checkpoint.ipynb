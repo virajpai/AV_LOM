{
 "cells": [
  {
   "cell_type": "code",
   "execution_count": 1,
   "metadata": {},
   "outputs": [
    {
     "name": "stdout",
     "output_type": "stream",
     "text": [
      "Populating the interactive namespace from numpy and matplotlib\n"
     ]
    }
   ],
   "source": [
    "%pylab inline"
   ]
  },
  {
   "cell_type": "code",
   "execution_count": 2,
   "metadata": {
    "collapsed": true
   },
   "outputs": [],
   "source": [
    "import pandas as pd\n",
    "from matplotlib import pyplot as plt\n",
    "import seaborn as sns"
   ]
  },
  {
   "cell_type": "code",
   "execution_count": 3,
   "metadata": {
    "collapsed": true
   },
   "outputs": [],
   "source": [
    "pd.set_option('display.float_format', lambda x: '%.3f' % x)"
   ]
  },
  {
   "cell_type": "code",
   "execution_count": 4,
   "metadata": {
    "collapsed": true
   },
   "outputs": [],
   "source": [
    "campaign_df = pd.read_csv(r'..\\data\\raw\\campaign_data.csv')\n",
    "train_df = pd.read_csv(r'..\\data\\raw\\train.csv', parse_dates=True)\n",
    "test_df = pd.read_csv(r'..\\data\\raw\\test.csv', parse_dates=True)"
   ]
  },
  {
   "cell_type": "code",
   "execution_count": 5,
   "metadata": {},
   "outputs": [
    {
     "data": {
      "text/html": [
       "<div>\n",
       "<style>\n",
       "    .dataframe thead tr:only-child th {\n",
       "        text-align: right;\n",
       "    }\n",
       "\n",
       "    .dataframe thead th {\n",
       "        text-align: left;\n",
       "    }\n",
       "\n",
       "    .dataframe tbody tr th {\n",
       "        vertical-align: top;\n",
       "    }\n",
       "</style>\n",
       "<table border=\"1\" class=\"dataframe\">\n",
       "  <thead>\n",
       "    <tr style=\"text-align: right;\">\n",
       "      <th></th>\n",
       "      <th>campaign_id</th>\n",
       "      <th>communication_type</th>\n",
       "      <th>total_links</th>\n",
       "      <th>no_of_internal_links</th>\n",
       "      <th>no_of_images</th>\n",
       "      <th>no_of_sections</th>\n",
       "      <th>email_body</th>\n",
       "      <th>subject</th>\n",
       "      <th>email_url</th>\n",
       "    </tr>\n",
       "  </thead>\n",
       "  <tbody>\n",
       "    <tr>\n",
       "      <th>0</th>\n",
       "      <td>29</td>\n",
       "      <td>Newsletter</td>\n",
       "      <td>67</td>\n",
       "      <td>61</td>\n",
       "      <td>12</td>\n",
       "      <td>3</td>\n",
       "      <td>Dear AVians,\\n \\nWe are shaping up a superb da...</td>\n",
       "      <td>Sneak Peek: A look at the emerging data scienc...</td>\n",
       "      <td>http://r.newsletters.analyticsvidhya.com/7um44...</td>\n",
       "    </tr>\n",
       "    <tr>\n",
       "      <th>1</th>\n",
       "      <td>30</td>\n",
       "      <td>Upcoming Events</td>\n",
       "      <td>18</td>\n",
       "      <td>14</td>\n",
       "      <td>7</td>\n",
       "      <td>1</td>\n",
       "      <td>Dear AVians,\\n \\nAre your eager to know what a...</td>\n",
       "      <td>[July] Data Science Expert Meetups &amp; Competiti...</td>\n",
       "      <td>http://r.newsletters.analyticsvidhya.com/7up0e...</td>\n",
       "    </tr>\n",
       "    <tr>\n",
       "      <th>2</th>\n",
       "      <td>31</td>\n",
       "      <td>Conference</td>\n",
       "      <td>15</td>\n",
       "      <td>13</td>\n",
       "      <td>5</td>\n",
       "      <td>1</td>\n",
       "      <td>Early Bird Pricing Till August 07  Save upto ...</td>\n",
       "      <td>Last chance to convince your boss before the E...</td>\n",
       "      <td>http://r.newsletters.analyticsvidhya.com/7usym...</td>\n",
       "    </tr>\n",
       "    <tr>\n",
       "      <th>3</th>\n",
       "      <td>32</td>\n",
       "      <td>Conference</td>\n",
       "      <td>24</td>\n",
       "      <td>19</td>\n",
       "      <td>7</td>\n",
       "      <td>1</td>\n",
       "      <td>\\n \\nHi ?\\n \\nBefore I dive into why you shoul...</td>\n",
       "      <td>A.I. &amp; Machine Learning: 5 reasons why you sho...</td>\n",
       "      <td>http://r.newsletters.analyticsvidhya.com/7uthl...</td>\n",
       "    </tr>\n",
       "    <tr>\n",
       "      <th>4</th>\n",
       "      <td>33</td>\n",
       "      <td>Others</td>\n",
       "      <td>7</td>\n",
       "      <td>3</td>\n",
       "      <td>1</td>\n",
       "      <td>1</td>\n",
       "      <td>Fireside Chat with DJ Patil - the master is he...</td>\n",
       "      <td>[Delhi NCR] Fireside Chat with DJ Patil, Forme...</td>\n",
       "      <td>http://r.newsletters.analyticsvidhya.com/7uvlg...</td>\n",
       "    </tr>\n",
       "  </tbody>\n",
       "</table>\n",
       "</div>"
      ],
      "text/plain": [
       "   campaign_id communication_type  total_links  no_of_internal_links  \\\n",
       "0           29         Newsletter           67                    61   \n",
       "1           30    Upcoming Events           18                    14   \n",
       "2           31         Conference           15                    13   \n",
       "3           32         Conference           24                    19   \n",
       "4           33             Others            7                     3   \n",
       "\n",
       "   no_of_images  no_of_sections  \\\n",
       "0            12               3   \n",
       "1             7               1   \n",
       "2             5               1   \n",
       "3             7               1   \n",
       "4             1               1   \n",
       "\n",
       "                                          email_body  \\\n",
       "0  Dear AVians,\\n \\nWe are shaping up a superb da...   \n",
       "1  Dear AVians,\\n \\nAre your eager to know what a...   \n",
       "2  Early Bird Pricing Till August 07  Save upto ...   \n",
       "3  \\n \\nHi ?\\n \\nBefore I dive into why you shoul...   \n",
       "4  Fireside Chat with DJ Patil - the master is he...   \n",
       "\n",
       "                                             subject  \\\n",
       "0  Sneak Peek: A look at the emerging data scienc...   \n",
       "1  [July] Data Science Expert Meetups & Competiti...   \n",
       "2  Last chance to convince your boss before the E...   \n",
       "3  A.I. & Machine Learning: 5 reasons why you sho...   \n",
       "4  [Delhi NCR] Fireside Chat with DJ Patil, Forme...   \n",
       "\n",
       "                                           email_url  \n",
       "0  http://r.newsletters.analyticsvidhya.com/7um44...  \n",
       "1  http://r.newsletters.analyticsvidhya.com/7up0e...  \n",
       "2  http://r.newsletters.analyticsvidhya.com/7usym...  \n",
       "3  http://r.newsletters.analyticsvidhya.com/7uthl...  \n",
       "4  http://r.newsletters.analyticsvidhya.com/7uvlg...  "
      ]
     },
     "execution_count": 5,
     "metadata": {},
     "output_type": "execute_result"
    }
   ],
   "source": [
    "campaign_df.head()"
   ]
  },
  {
   "cell_type": "code",
   "execution_count": 6,
   "metadata": {},
   "outputs": [
    {
     "data": {
      "text/html": [
       "<div>\n",
       "<style>\n",
       "    .dataframe thead tr:only-child th {\n",
       "        text-align: right;\n",
       "    }\n",
       "\n",
       "    .dataframe thead th {\n",
       "        text-align: left;\n",
       "    }\n",
       "\n",
       "    .dataframe tbody tr th {\n",
       "        vertical-align: top;\n",
       "    }\n",
       "</style>\n",
       "<table border=\"1\" class=\"dataframe\">\n",
       "  <thead>\n",
       "    <tr style=\"text-align: right;\">\n",
       "      <th></th>\n",
       "      <th>id</th>\n",
       "      <th>user_id</th>\n",
       "      <th>campaign_id</th>\n",
       "      <th>send_date</th>\n",
       "      <th>is_open</th>\n",
       "      <th>is_click</th>\n",
       "    </tr>\n",
       "  </thead>\n",
       "  <tbody>\n",
       "    <tr>\n",
       "      <th>0</th>\n",
       "      <td>42_14051</td>\n",
       "      <td>14051</td>\n",
       "      <td>42</td>\n",
       "      <td>01-09-2017 19:55</td>\n",
       "      <td>0</td>\n",
       "      <td>0</td>\n",
       "    </tr>\n",
       "    <tr>\n",
       "      <th>1</th>\n",
       "      <td>52_134438</td>\n",
       "      <td>134438</td>\n",
       "      <td>52</td>\n",
       "      <td>02-11-2017 12:53</td>\n",
       "      <td>0</td>\n",
       "      <td>0</td>\n",
       "    </tr>\n",
       "    <tr>\n",
       "      <th>2</th>\n",
       "      <td>33_181789</td>\n",
       "      <td>181789</td>\n",
       "      <td>33</td>\n",
       "      <td>24-07-2017 15:15</td>\n",
       "      <td>0</td>\n",
       "      <td>0</td>\n",
       "    </tr>\n",
       "    <tr>\n",
       "      <th>3</th>\n",
       "      <td>44_231448</td>\n",
       "      <td>231448</td>\n",
       "      <td>44</td>\n",
       "      <td>05-09-2017 11:36</td>\n",
       "      <td>0</td>\n",
       "      <td>0</td>\n",
       "    </tr>\n",
       "    <tr>\n",
       "      <th>4</th>\n",
       "      <td>29_185580</td>\n",
       "      <td>185580</td>\n",
       "      <td>29</td>\n",
       "      <td>01-07-2017 18:01</td>\n",
       "      <td>0</td>\n",
       "      <td>0</td>\n",
       "    </tr>\n",
       "  </tbody>\n",
       "</table>\n",
       "</div>"
      ],
      "text/plain": [
       "          id  user_id  campaign_id         send_date  is_open  is_click\n",
       "0   42_14051    14051           42  01-09-2017 19:55        0         0\n",
       "1  52_134438   134438           52  02-11-2017 12:53        0         0\n",
       "2  33_181789   181789           33  24-07-2017 15:15        0         0\n",
       "3  44_231448   231448           44  05-09-2017 11:36        0         0\n",
       "4  29_185580   185580           29  01-07-2017 18:01        0         0"
      ]
     },
     "execution_count": 6,
     "metadata": {},
     "output_type": "execute_result"
    }
   ],
   "source": [
    "train_df.head()"
   ]
  },
  {
   "cell_type": "code",
   "execution_count": 7,
   "metadata": {},
   "outputs": [
    {
     "data": {
      "text/html": [
       "<div>\n",
       "<style>\n",
       "    .dataframe thead tr:only-child th {\n",
       "        text-align: right;\n",
       "    }\n",
       "\n",
       "    .dataframe thead th {\n",
       "        text-align: left;\n",
       "    }\n",
       "\n",
       "    .dataframe tbody tr th {\n",
       "        vertical-align: top;\n",
       "    }\n",
       "</style>\n",
       "<table border=\"1\" class=\"dataframe\">\n",
       "  <thead>\n",
       "    <tr style=\"text-align: right;\">\n",
       "      <th></th>\n",
       "      <th>id</th>\n",
       "      <th>campaign_id</th>\n",
       "      <th>user_id</th>\n",
       "      <th>send_date</th>\n",
       "    </tr>\n",
       "  </thead>\n",
       "  <tbody>\n",
       "    <tr>\n",
       "      <th>0</th>\n",
       "      <td>63_122715</td>\n",
       "      <td>63</td>\n",
       "      <td>122715</td>\n",
       "      <td>01-02-2018 22:35</td>\n",
       "    </tr>\n",
       "    <tr>\n",
       "      <th>1</th>\n",
       "      <td>56_76206</td>\n",
       "      <td>56</td>\n",
       "      <td>76206</td>\n",
       "      <td>02-01-2018 08:15</td>\n",
       "    </tr>\n",
       "    <tr>\n",
       "      <th>2</th>\n",
       "      <td>57_96189</td>\n",
       "      <td>57</td>\n",
       "      <td>96189</td>\n",
       "      <td>05-01-2018 18:25</td>\n",
       "    </tr>\n",
       "    <tr>\n",
       "      <th>3</th>\n",
       "      <td>56_166917</td>\n",
       "      <td>56</td>\n",
       "      <td>166917</td>\n",
       "      <td>02-01-2018 08:15</td>\n",
       "    </tr>\n",
       "    <tr>\n",
       "      <th>4</th>\n",
       "      <td>56_172838</td>\n",
       "      <td>56</td>\n",
       "      <td>172838</td>\n",
       "      <td>02-01-2018 08:12</td>\n",
       "    </tr>\n",
       "  </tbody>\n",
       "</table>\n",
       "</div>"
      ],
      "text/plain": [
       "          id  campaign_id  user_id         send_date\n",
       "0  63_122715           63   122715  01-02-2018 22:35\n",
       "1   56_76206           56    76206  02-01-2018 08:15\n",
       "2   57_96189           57    96189  05-01-2018 18:25\n",
       "3  56_166917           56   166917  02-01-2018 08:15\n",
       "4  56_172838           56   172838  02-01-2018 08:12"
      ]
     },
     "execution_count": 7,
     "metadata": {},
     "output_type": "execute_result"
    }
   ],
   "source": [
    "test_df.head()"
   ]
  },
  {
   "cell_type": "markdown",
   "metadata": {},
   "source": [
    "### Check for missing values"
   ]
  },
  {
   "cell_type": "code",
   "execution_count": 8,
   "metadata": {},
   "outputs": [
    {
     "name": "stdout",
     "output_type": "stream",
     "text": [
      "<class 'pandas.core.frame.DataFrame'>\n",
      "RangeIndex: 52 entries, 0 to 51\n",
      "Data columns (total 9 columns):\n",
      "campaign_id             52 non-null int64\n",
      "communication_type      52 non-null object\n",
      "total_links             52 non-null int64\n",
      "no_of_internal_links    52 non-null int64\n",
      "no_of_images            52 non-null int64\n",
      "no_of_sections          52 non-null int64\n",
      "email_body              52 non-null object\n",
      "subject                 52 non-null object\n",
      "email_url               52 non-null object\n",
      "dtypes: int64(5), object(4)\n",
      "memory usage: 3.7+ KB\n"
     ]
    }
   ],
   "source": [
    "campaign_df.info()"
   ]
  },
  {
   "cell_type": "code",
   "execution_count": 9,
   "metadata": {},
   "outputs": [
    {
     "name": "stdout",
     "output_type": "stream",
     "text": [
      "<class 'pandas.core.frame.DataFrame'>\n",
      "RangeIndex: 1023191 entries, 0 to 1023190\n",
      "Data columns (total 6 columns):\n",
      "id             1023191 non-null object\n",
      "user_id        1023191 non-null int64\n",
      "campaign_id    1023191 non-null int64\n",
      "send_date      1023191 non-null object\n",
      "is_open        1023191 non-null int64\n",
      "is_click       1023191 non-null int64\n",
      "dtypes: int64(4), object(2)\n",
      "memory usage: 46.8+ MB\n"
     ]
    }
   ],
   "source": [
    "train_df.info()"
   ]
  },
  {
   "cell_type": "code",
   "execution_count": 10,
   "metadata": {},
   "outputs": [
    {
     "name": "stdout",
     "output_type": "stream",
     "text": [
      "<class 'pandas.core.frame.DataFrame'>\n",
      "RangeIndex: 773858 entries, 0 to 773857\n",
      "Data columns (total 4 columns):\n",
      "id             773858 non-null object\n",
      "campaign_id    773858 non-null int64\n",
      "user_id        773858 non-null int64\n",
      "send_date      773858 non-null object\n",
      "dtypes: int64(2), object(2)\n",
      "memory usage: 23.6+ MB\n"
     ]
    }
   ],
   "source": [
    "test_df.info()"
   ]
  },
  {
   "cell_type": "markdown",
   "metadata": {},
   "source": [
    "#### No missing values found\n",
    "\n",
    "### Joining user data with campaign data"
   ]
  },
  {
   "cell_type": "code",
   "execution_count": 12,
   "metadata": {
    "collapsed": true
   },
   "outputs": [],
   "source": [
    "train = pd.merge(train_df, campaign_df, on='campaign_id')\n",
    "test = pd.merge(test_df, campaign_df, on='campaign_id')"
   ]
  },
  {
   "cell_type": "code",
   "execution_count": 13,
   "metadata": {},
   "outputs": [
    {
     "data": {
      "text/html": [
       "<div>\n",
       "<style>\n",
       "    .dataframe thead tr:only-child th {\n",
       "        text-align: right;\n",
       "    }\n",
       "\n",
       "    .dataframe thead th {\n",
       "        text-align: left;\n",
       "    }\n",
       "\n",
       "    .dataframe tbody tr th {\n",
       "        vertical-align: top;\n",
       "    }\n",
       "</style>\n",
       "<table border=\"1\" class=\"dataframe\">\n",
       "  <thead>\n",
       "    <tr style=\"text-align: right;\">\n",
       "      <th></th>\n",
       "      <th>id</th>\n",
       "      <th>user_id</th>\n",
       "      <th>campaign_id</th>\n",
       "      <th>send_date</th>\n",
       "      <th>is_open</th>\n",
       "      <th>is_click</th>\n",
       "      <th>communication_type</th>\n",
       "      <th>total_links</th>\n",
       "      <th>no_of_internal_links</th>\n",
       "      <th>no_of_images</th>\n",
       "      <th>no_of_sections</th>\n",
       "      <th>email_body</th>\n",
       "      <th>subject</th>\n",
       "      <th>email_url</th>\n",
       "    </tr>\n",
       "  </thead>\n",
       "  <tbody>\n",
       "    <tr>\n",
       "      <th>0</th>\n",
       "      <td>42_14051</td>\n",
       "      <td>14051</td>\n",
       "      <td>42</td>\n",
       "      <td>01-09-2017 19:55</td>\n",
       "      <td>0</td>\n",
       "      <td>0</td>\n",
       "      <td>Newsletter</td>\n",
       "      <td>88</td>\n",
       "      <td>79</td>\n",
       "      <td>13</td>\n",
       "      <td>4</td>\n",
       "      <td>September Newsletter\\n \\nDear AVians,\\n \\nWe a...</td>\n",
       "      <td>[September] Exciting days ahead with DataHack ...</td>\n",
       "      <td>http://r.newsletters.analyticsvidhya.com/7v3rd...</td>\n",
       "    </tr>\n",
       "    <tr>\n",
       "      <th>1</th>\n",
       "      <td>42_177808</td>\n",
       "      <td>177808</td>\n",
       "      <td>42</td>\n",
       "      <td>01-09-2017 20:13</td>\n",
       "      <td>0</td>\n",
       "      <td>0</td>\n",
       "      <td>Newsletter</td>\n",
       "      <td>88</td>\n",
       "      <td>79</td>\n",
       "      <td>13</td>\n",
       "      <td>4</td>\n",
       "      <td>September Newsletter\\n \\nDear AVians,\\n \\nWe a...</td>\n",
       "      <td>[September] Exciting days ahead with DataHack ...</td>\n",
       "      <td>http://r.newsletters.analyticsvidhya.com/7v3rd...</td>\n",
       "    </tr>\n",
       "    <tr>\n",
       "      <th>2</th>\n",
       "      <td>42_133077</td>\n",
       "      <td>133077</td>\n",
       "      <td>42</td>\n",
       "      <td>01-09-2017 20:11</td>\n",
       "      <td>0</td>\n",
       "      <td>0</td>\n",
       "      <td>Newsletter</td>\n",
       "      <td>88</td>\n",
       "      <td>79</td>\n",
       "      <td>13</td>\n",
       "      <td>4</td>\n",
       "      <td>September Newsletter\\n \\nDear AVians,\\n \\nWe a...</td>\n",
       "      <td>[September] Exciting days ahead with DataHack ...</td>\n",
       "      <td>http://r.newsletters.analyticsvidhya.com/7v3rd...</td>\n",
       "    </tr>\n",
       "    <tr>\n",
       "      <th>3</th>\n",
       "      <td>42_118677</td>\n",
       "      <td>118677</td>\n",
       "      <td>42</td>\n",
       "      <td>01-09-2017 20:15</td>\n",
       "      <td>0</td>\n",
       "      <td>0</td>\n",
       "      <td>Newsletter</td>\n",
       "      <td>88</td>\n",
       "      <td>79</td>\n",
       "      <td>13</td>\n",
       "      <td>4</td>\n",
       "      <td>September Newsletter\\n \\nDear AVians,\\n \\nWe a...</td>\n",
       "      <td>[September] Exciting days ahead with DataHack ...</td>\n",
       "      <td>http://r.newsletters.analyticsvidhya.com/7v3rd...</td>\n",
       "    </tr>\n",
       "    <tr>\n",
       "      <th>4</th>\n",
       "      <td>42_25809</td>\n",
       "      <td>25809</td>\n",
       "      <td>42</td>\n",
       "      <td>01-09-2017 19:49</td>\n",
       "      <td>0</td>\n",
       "      <td>0</td>\n",
       "      <td>Newsletter</td>\n",
       "      <td>88</td>\n",
       "      <td>79</td>\n",
       "      <td>13</td>\n",
       "      <td>4</td>\n",
       "      <td>September Newsletter\\n \\nDear AVians,\\n \\nWe a...</td>\n",
       "      <td>[September] Exciting days ahead with DataHack ...</td>\n",
       "      <td>http://r.newsletters.analyticsvidhya.com/7v3rd...</td>\n",
       "    </tr>\n",
       "  </tbody>\n",
       "</table>\n",
       "</div>"
      ],
      "text/plain": [
       "          id  user_id  campaign_id         send_date  is_open  is_click  \\\n",
       "0   42_14051    14051           42  01-09-2017 19:55        0         0   \n",
       "1  42_177808   177808           42  01-09-2017 20:13        0         0   \n",
       "2  42_133077   133077           42  01-09-2017 20:11        0         0   \n",
       "3  42_118677   118677           42  01-09-2017 20:15        0         0   \n",
       "4   42_25809    25809           42  01-09-2017 19:49        0         0   \n",
       "\n",
       "  communication_type  total_links  no_of_internal_links  no_of_images  \\\n",
       "0         Newsletter           88                    79            13   \n",
       "1         Newsletter           88                    79            13   \n",
       "2         Newsletter           88                    79            13   \n",
       "3         Newsletter           88                    79            13   \n",
       "4         Newsletter           88                    79            13   \n",
       "\n",
       "   no_of_sections                                         email_body  \\\n",
       "0               4  September Newsletter\\n \\nDear AVians,\\n \\nWe a...   \n",
       "1               4  September Newsletter\\n \\nDear AVians,\\n \\nWe a...   \n",
       "2               4  September Newsletter\\n \\nDear AVians,\\n \\nWe a...   \n",
       "3               4  September Newsletter\\n \\nDear AVians,\\n \\nWe a...   \n",
       "4               4  September Newsletter\\n \\nDear AVians,\\n \\nWe a...   \n",
       "\n",
       "                                             subject  \\\n",
       "0  [September] Exciting days ahead with DataHack ...   \n",
       "1  [September] Exciting days ahead with DataHack ...   \n",
       "2  [September] Exciting days ahead with DataHack ...   \n",
       "3  [September] Exciting days ahead with DataHack ...   \n",
       "4  [September] Exciting days ahead with DataHack ...   \n",
       "\n",
       "                                           email_url  \n",
       "0  http://r.newsletters.analyticsvidhya.com/7v3rd...  \n",
       "1  http://r.newsletters.analyticsvidhya.com/7v3rd...  \n",
       "2  http://r.newsletters.analyticsvidhya.com/7v3rd...  \n",
       "3  http://r.newsletters.analyticsvidhya.com/7v3rd...  \n",
       "4  http://r.newsletters.analyticsvidhya.com/7v3rd...  "
      ]
     },
     "execution_count": 13,
     "metadata": {},
     "output_type": "execute_result"
    }
   ],
   "source": [
    "train.head()"
   ]
  },
  {
   "cell_type": "code",
   "execution_count": 14,
   "metadata": {},
   "outputs": [
    {
     "data": {
      "text/html": [
       "<div>\n",
       "<style>\n",
       "    .dataframe thead tr:only-child th {\n",
       "        text-align: right;\n",
       "    }\n",
       "\n",
       "    .dataframe thead th {\n",
       "        text-align: left;\n",
       "    }\n",
       "\n",
       "    .dataframe tbody tr th {\n",
       "        vertical-align: top;\n",
       "    }\n",
       "</style>\n",
       "<table border=\"1\" class=\"dataframe\">\n",
       "  <thead>\n",
       "    <tr style=\"text-align: right;\">\n",
       "      <th></th>\n",
       "      <th>id</th>\n",
       "      <th>campaign_id</th>\n",
       "      <th>user_id</th>\n",
       "      <th>send_date</th>\n",
       "      <th>communication_type</th>\n",
       "      <th>total_links</th>\n",
       "      <th>no_of_internal_links</th>\n",
       "      <th>no_of_images</th>\n",
       "      <th>no_of_sections</th>\n",
       "      <th>email_body</th>\n",
       "      <th>subject</th>\n",
       "      <th>email_url</th>\n",
       "    </tr>\n",
       "  </thead>\n",
       "  <tbody>\n",
       "    <tr>\n",
       "      <th>0</th>\n",
       "      <td>63_122715</td>\n",
       "      <td>63</td>\n",
       "      <td>122715</td>\n",
       "      <td>01-02-2018 22:35</td>\n",
       "      <td>Newsletter</td>\n",
       "      <td>68</td>\n",
       "      <td>64</td>\n",
       "      <td>15</td>\n",
       "      <td>5</td>\n",
       "      <td>\\nFebruary 2018 Newsletter\\n \\nDear AVian,\\n\\n...</td>\n",
       "      <td>AVbytes, Ultimate 2018 learning path and aweso...</td>\n",
       "      <td>http://r.newsletters.analyticsvidhya.com/7whsu...</td>\n",
       "    </tr>\n",
       "    <tr>\n",
       "      <th>1</th>\n",
       "      <td>63_124394</td>\n",
       "      <td>63</td>\n",
       "      <td>124394</td>\n",
       "      <td>01-02-2018 22:47</td>\n",
       "      <td>Newsletter</td>\n",
       "      <td>68</td>\n",
       "      <td>64</td>\n",
       "      <td>15</td>\n",
       "      <td>5</td>\n",
       "      <td>\\nFebruary 2018 Newsletter\\n \\nDear AVian,\\n\\n...</td>\n",
       "      <td>AVbytes, Ultimate 2018 learning path and aweso...</td>\n",
       "      <td>http://r.newsletters.analyticsvidhya.com/7whsu...</td>\n",
       "    </tr>\n",
       "    <tr>\n",
       "      <th>2</th>\n",
       "      <td>63_95168</td>\n",
       "      <td>63</td>\n",
       "      <td>95168</td>\n",
       "      <td>01-02-2018 22:44</td>\n",
       "      <td>Newsletter</td>\n",
       "      <td>68</td>\n",
       "      <td>64</td>\n",
       "      <td>15</td>\n",
       "      <td>5</td>\n",
       "      <td>\\nFebruary 2018 Newsletter\\n \\nDear AVian,\\n\\n...</td>\n",
       "      <td>AVbytes, Ultimate 2018 learning path and aweso...</td>\n",
       "      <td>http://r.newsletters.analyticsvidhya.com/7whsu...</td>\n",
       "    </tr>\n",
       "    <tr>\n",
       "      <th>3</th>\n",
       "      <td>63_31556</td>\n",
       "      <td>63</td>\n",
       "      <td>31556</td>\n",
       "      <td>01-02-2018 23:09</td>\n",
       "      <td>Newsletter</td>\n",
       "      <td>68</td>\n",
       "      <td>64</td>\n",
       "      <td>15</td>\n",
       "      <td>5</td>\n",
       "      <td>\\nFebruary 2018 Newsletter\\n \\nDear AVian,\\n\\n...</td>\n",
       "      <td>AVbytes, Ultimate 2018 learning path and aweso...</td>\n",
       "      <td>http://r.newsletters.analyticsvidhya.com/7whsu...</td>\n",
       "    </tr>\n",
       "    <tr>\n",
       "      <th>4</th>\n",
       "      <td>63_138377</td>\n",
       "      <td>63</td>\n",
       "      <td>138377</td>\n",
       "      <td>01-02-2018 22:48</td>\n",
       "      <td>Newsletter</td>\n",
       "      <td>68</td>\n",
       "      <td>64</td>\n",
       "      <td>15</td>\n",
       "      <td>5</td>\n",
       "      <td>\\nFebruary 2018 Newsletter\\n \\nDear AVian,\\n\\n...</td>\n",
       "      <td>AVbytes, Ultimate 2018 learning path and aweso...</td>\n",
       "      <td>http://r.newsletters.analyticsvidhya.com/7whsu...</td>\n",
       "    </tr>\n",
       "  </tbody>\n",
       "</table>\n",
       "</div>"
      ],
      "text/plain": [
       "          id  campaign_id  user_id         send_date communication_type  \\\n",
       "0  63_122715           63   122715  01-02-2018 22:35         Newsletter   \n",
       "1  63_124394           63   124394  01-02-2018 22:47         Newsletter   \n",
       "2   63_95168           63    95168  01-02-2018 22:44         Newsletter   \n",
       "3   63_31556           63    31556  01-02-2018 23:09         Newsletter   \n",
       "4  63_138377           63   138377  01-02-2018 22:48         Newsletter   \n",
       "\n",
       "   total_links  no_of_internal_links  no_of_images  no_of_sections  \\\n",
       "0           68                    64            15               5   \n",
       "1           68                    64            15               5   \n",
       "2           68                    64            15               5   \n",
       "3           68                    64            15               5   \n",
       "4           68                    64            15               5   \n",
       "\n",
       "                                          email_body  \\\n",
       "0  \\nFebruary 2018 Newsletter\\n \\nDear AVian,\\n\\n...   \n",
       "1  \\nFebruary 2018 Newsletter\\n \\nDear AVian,\\n\\n...   \n",
       "2  \\nFebruary 2018 Newsletter\\n \\nDear AVian,\\n\\n...   \n",
       "3  \\nFebruary 2018 Newsletter\\n \\nDear AVian,\\n\\n...   \n",
       "4  \\nFebruary 2018 Newsletter\\n \\nDear AVian,\\n\\n...   \n",
       "\n",
       "                                             subject  \\\n",
       "0  AVbytes, Ultimate 2018 learning path and aweso...   \n",
       "1  AVbytes, Ultimate 2018 learning path and aweso...   \n",
       "2  AVbytes, Ultimate 2018 learning path and aweso...   \n",
       "3  AVbytes, Ultimate 2018 learning path and aweso...   \n",
       "4  AVbytes, Ultimate 2018 learning path and aweso...   \n",
       "\n",
       "                                           email_url  \n",
       "0  http://r.newsletters.analyticsvidhya.com/7whsu...  \n",
       "1  http://r.newsletters.analyticsvidhya.com/7whsu...  \n",
       "2  http://r.newsletters.analyticsvidhya.com/7whsu...  \n",
       "3  http://r.newsletters.analyticsvidhya.com/7whsu...  \n",
       "4  http://r.newsletters.analyticsvidhya.com/7whsu...  "
      ]
     },
     "execution_count": 14,
     "metadata": {},
     "output_type": "execute_result"
    }
   ],
   "source": [
    "test.head()"
   ]
  },
  {
   "cell_type": "code",
   "execution_count": 15,
   "metadata": {},
   "outputs": [
    {
     "data": {
      "text/html": [
       "<div>\n",
       "<style>\n",
       "    .dataframe thead tr:only-child th {\n",
       "        text-align: right;\n",
       "    }\n",
       "\n",
       "    .dataframe thead th {\n",
       "        text-align: left;\n",
       "    }\n",
       "\n",
       "    .dataframe tbody tr th {\n",
       "        vertical-align: top;\n",
       "    }\n",
       "</style>\n",
       "<table border=\"1\" class=\"dataframe\">\n",
       "  <thead>\n",
       "    <tr style=\"text-align: right;\">\n",
       "      <th></th>\n",
       "      <th>user_id</th>\n",
       "      <th>campaign_id</th>\n",
       "      <th>is_open</th>\n",
       "      <th>is_click</th>\n",
       "      <th>total_links</th>\n",
       "      <th>no_of_internal_links</th>\n",
       "      <th>no_of_images</th>\n",
       "      <th>no_of_sections</th>\n",
       "    </tr>\n",
       "  </thead>\n",
       "  <tbody>\n",
       "    <tr>\n",
       "      <th>count</th>\n",
       "      <td>1023191.000</td>\n",
       "      <td>1023191.000</td>\n",
       "      <td>1023191.000</td>\n",
       "      <td>1023191.000</td>\n",
       "      <td>1023191.000</td>\n",
       "      <td>1023191.000</td>\n",
       "      <td>1023191.000</td>\n",
       "      <td>1023191.000</td>\n",
       "    </tr>\n",
       "    <tr>\n",
       "      <th>mean</th>\n",
       "      <td>120674.545</td>\n",
       "      <td>42.286</td>\n",
       "      <td>0.100</td>\n",
       "      <td>0.012</td>\n",
       "      <td>67.762</td>\n",
       "      <td>62.419</td>\n",
       "      <td>9.949</td>\n",
       "      <td>2.656</td>\n",
       "    </tr>\n",
       "    <tr>\n",
       "      <th>std</th>\n",
       "      <td>69309.475</td>\n",
       "      <td>8.961</td>\n",
       "      <td>0.301</td>\n",
       "      <td>0.111</td>\n",
       "      <td>47.338</td>\n",
       "      <td>46.064</td>\n",
       "      <td>4.855</td>\n",
       "      <td>1.688</td>\n",
       "    </tr>\n",
       "    <tr>\n",
       "      <th>min</th>\n",
       "      <td>5.000</td>\n",
       "      <td>29.000</td>\n",
       "      <td>0.000</td>\n",
       "      <td>0.000</td>\n",
       "      <td>7.000</td>\n",
       "      <td>2.000</td>\n",
       "      <td>1.000</td>\n",
       "      <td>1.000</td>\n",
       "    </tr>\n",
       "    <tr>\n",
       "      <th>25%</th>\n",
       "      <td>60834.000</td>\n",
       "      <td>33.000</td>\n",
       "      <td>0.000</td>\n",
       "      <td>0.000</td>\n",
       "      <td>24.000</td>\n",
       "      <td>19.000</td>\n",
       "      <td>7.000</td>\n",
       "      <td>1.000</td>\n",
       "    </tr>\n",
       "    <tr>\n",
       "      <th>50%</th>\n",
       "      <td>120476.000</td>\n",
       "      <td>42.000</td>\n",
       "      <td>0.000</td>\n",
       "      <td>0.000</td>\n",
       "      <td>67.000</td>\n",
       "      <td>61.000</td>\n",
       "      <td>12.000</td>\n",
       "      <td>3.000</td>\n",
       "    </tr>\n",
       "    <tr>\n",
       "      <th>75%</th>\n",
       "      <td>180357.000</td>\n",
       "      <td>52.000</td>\n",
       "      <td>0.000</td>\n",
       "      <td>0.000</td>\n",
       "      <td>104.000</td>\n",
       "      <td>100.000</td>\n",
       "      <td>13.000</td>\n",
       "      <td>4.000</td>\n",
       "    </tr>\n",
       "    <tr>\n",
       "      <th>max</th>\n",
       "      <td>240986.000</td>\n",
       "      <td>54.000</td>\n",
       "      <td>1.000</td>\n",
       "      <td>1.000</td>\n",
       "      <td>203.000</td>\n",
       "      <td>191.000</td>\n",
       "      <td>19.000</td>\n",
       "      <td>6.000</td>\n",
       "    </tr>\n",
       "  </tbody>\n",
       "</table>\n",
       "</div>"
      ],
      "text/plain": [
       "          user_id  campaign_id     is_open    is_click  total_links  \\\n",
       "count 1023191.000  1023191.000 1023191.000 1023191.000  1023191.000   \n",
       "mean   120674.545       42.286       0.100       0.012       67.762   \n",
       "std     69309.475        8.961       0.301       0.111       47.338   \n",
       "min         5.000       29.000       0.000       0.000        7.000   \n",
       "25%     60834.000       33.000       0.000       0.000       24.000   \n",
       "50%    120476.000       42.000       0.000       0.000       67.000   \n",
       "75%    180357.000       52.000       0.000       0.000      104.000   \n",
       "max    240986.000       54.000       1.000       1.000      203.000   \n",
       "\n",
       "       no_of_internal_links  no_of_images  no_of_sections  \n",
       "count           1023191.000   1023191.000     1023191.000  \n",
       "mean                 62.419         9.949           2.656  \n",
       "std                  46.064         4.855           1.688  \n",
       "min                   2.000         1.000           1.000  \n",
       "25%                  19.000         7.000           1.000  \n",
       "50%                  61.000        12.000           3.000  \n",
       "75%                 100.000        13.000           4.000  \n",
       "max                 191.000        19.000           6.000  "
      ]
     },
     "execution_count": 15,
     "metadata": {},
     "output_type": "execute_result"
    }
   ],
   "source": [
    "train.describe()"
   ]
  },
  {
   "cell_type": "code",
   "execution_count": 16,
   "metadata": {},
   "outputs": [],
   "source": [
    "# Converting ids to string\n",
    "train['user_id'] = train['user_id'].astype('str')\n",
    "train['campaign_id'] = train['campaign_id'].astype('str')\n",
    "\n",
    "test['user_id'] = test['user_id'].astype('str')\n",
    "test['campaign_id'] = test['campaign_id'].astype('str')"
   ]
  },
  {
   "cell_type": "code",
   "execution_count": 17,
   "metadata": {},
   "outputs": [
    {
     "data": {
      "text/html": [
       "<div>\n",
       "<style>\n",
       "    .dataframe thead tr:only-child th {\n",
       "        text-align: right;\n",
       "    }\n",
       "\n",
       "    .dataframe thead th {\n",
       "        text-align: left;\n",
       "    }\n",
       "\n",
       "    .dataframe tbody tr th {\n",
       "        vertical-align: top;\n",
       "    }\n",
       "</style>\n",
       "<table border=\"1\" class=\"dataframe\">\n",
       "  <thead>\n",
       "    <tr style=\"text-align: right;\">\n",
       "      <th></th>\n",
       "      <th>is_open</th>\n",
       "      <th>is_click</th>\n",
       "      <th>total_links</th>\n",
       "      <th>no_of_internal_links</th>\n",
       "      <th>no_of_images</th>\n",
       "      <th>no_of_sections</th>\n",
       "    </tr>\n",
       "  </thead>\n",
       "  <tbody>\n",
       "    <tr>\n",
       "      <th>count</th>\n",
       "      <td>1023191.000</td>\n",
       "      <td>1023191.000</td>\n",
       "      <td>1023191.000</td>\n",
       "      <td>1023191.000</td>\n",
       "      <td>1023191.000</td>\n",
       "      <td>1023191.000</td>\n",
       "    </tr>\n",
       "    <tr>\n",
       "      <th>mean</th>\n",
       "      <td>0.100</td>\n",
       "      <td>0.012</td>\n",
       "      <td>67.762</td>\n",
       "      <td>62.419</td>\n",
       "      <td>9.949</td>\n",
       "      <td>2.656</td>\n",
       "    </tr>\n",
       "    <tr>\n",
       "      <th>std</th>\n",
       "      <td>0.301</td>\n",
       "      <td>0.111</td>\n",
       "      <td>47.338</td>\n",
       "      <td>46.064</td>\n",
       "      <td>4.855</td>\n",
       "      <td>1.688</td>\n",
       "    </tr>\n",
       "    <tr>\n",
       "      <th>min</th>\n",
       "      <td>0.000</td>\n",
       "      <td>0.000</td>\n",
       "      <td>7.000</td>\n",
       "      <td>2.000</td>\n",
       "      <td>1.000</td>\n",
       "      <td>1.000</td>\n",
       "    </tr>\n",
       "    <tr>\n",
       "      <th>25%</th>\n",
       "      <td>0.000</td>\n",
       "      <td>0.000</td>\n",
       "      <td>24.000</td>\n",
       "      <td>19.000</td>\n",
       "      <td>7.000</td>\n",
       "      <td>1.000</td>\n",
       "    </tr>\n",
       "    <tr>\n",
       "      <th>50%</th>\n",
       "      <td>0.000</td>\n",
       "      <td>0.000</td>\n",
       "      <td>67.000</td>\n",
       "      <td>61.000</td>\n",
       "      <td>12.000</td>\n",
       "      <td>3.000</td>\n",
       "    </tr>\n",
       "    <tr>\n",
       "      <th>75%</th>\n",
       "      <td>0.000</td>\n",
       "      <td>0.000</td>\n",
       "      <td>104.000</td>\n",
       "      <td>100.000</td>\n",
       "      <td>13.000</td>\n",
       "      <td>4.000</td>\n",
       "    </tr>\n",
       "    <tr>\n",
       "      <th>max</th>\n",
       "      <td>1.000</td>\n",
       "      <td>1.000</td>\n",
       "      <td>203.000</td>\n",
       "      <td>191.000</td>\n",
       "      <td>19.000</td>\n",
       "      <td>6.000</td>\n",
       "    </tr>\n",
       "  </tbody>\n",
       "</table>\n",
       "</div>"
      ],
      "text/plain": [
       "          is_open    is_click  total_links  no_of_internal_links  \\\n",
       "count 1023191.000 1023191.000  1023191.000           1023191.000   \n",
       "mean        0.100       0.012       67.762                62.419   \n",
       "std         0.301       0.111       47.338                46.064   \n",
       "min         0.000       0.000        7.000                 2.000   \n",
       "25%         0.000       0.000       24.000                19.000   \n",
       "50%         0.000       0.000       67.000                61.000   \n",
       "75%         0.000       0.000      104.000               100.000   \n",
       "max         1.000       1.000      203.000               191.000   \n",
       "\n",
       "       no_of_images  no_of_sections  \n",
       "count   1023191.000     1023191.000  \n",
       "mean          9.949           2.656  \n",
       "std           4.855           1.688  \n",
       "min           1.000           1.000  \n",
       "25%           7.000           1.000  \n",
       "50%          12.000           3.000  \n",
       "75%          13.000           4.000  \n",
       "max          19.000           6.000  "
      ]
     },
     "execution_count": 17,
     "metadata": {},
     "output_type": "execute_result"
    }
   ],
   "source": [
    "train.describe()"
   ]
  },
  {
   "cell_type": "markdown",
   "metadata": {},
   "source": [
    "### Check numeric data distribution and outliers"
   ]
  },
  {
   "cell_type": "code",
   "execution_count": 22,
   "metadata": {},
   "outputs": [
    {
     "data": {
      "image/png": "[encoded data removed]",
      "text/plain": [
       "<matplotlib.figure.Figure at 0x1be233b86a0>"
      ]
     },
     "metadata": {},
     "output_type": "display_data"
    }
   ],
   "source": [
    "train.hist(figsize=(16, 10));"
   ]
  },
  {
   "cell_type": "code",
   "execution_count": 18,
   "metadata": {},
   "outputs": [
    {
     "data": {
      "image/png": "[encoded data removed]",
      "text/plain": [
       "<matplotlib.figure.Figure at 0x1be001c1198>"
      ]
     },
     "metadata": {},
     "output_type": "display_data"
    }
   ],
   "source": [
    "train['no_of_images'].plot(kind='box', figsize=(10, 6));"
   ]
  },
  {
   "cell_type": "code",
   "execution_count": 19,
   "metadata": {},
   "outputs": [
    {
     "data": {
      "image/png": "[encoded data removed]",
      "text/plain": [
       "<matplotlib.figure.Figure at 0x1be230f7ba8>"
      ]
     },
     "metadata": {},
     "output_type": "display_data"
    }
   ],
   "source": [
    "train['no_of_internal_links'].plot(kind='box', figsize=(10, 6));"
   ]
  },
  {
   "cell_type": "code",
   "execution_count": 20,
   "metadata": {},
   "outputs": [
    {
     "data": {
      "image/png": "[encoded data removed]",
      "text/plain": [
       "<matplotlib.figure.Figure at 0x1be232620b8>"
      ]
     },
     "metadata": {},
     "output_type": "display_data"
    }
   ],
   "source": [
    "train['no_of_sections'].plot(kind='box', figsize=(10, 6));"
   ]
  },
  {
   "cell_type": "code",
   "execution_count": 21,
   "metadata": {},
   "outputs": [
    {
     "data": {
      "image/png": "[encoded data removed]",
      "text/plain": [
       "<matplotlib.figure.Figure at 0x1be209e9668>"
      ]
     },
     "metadata": {},
     "output_type": "display_data"
    }
   ],
   "source": [
    "train['total_links'].plot(kind='box', figsize=(10, 6));"
   ]
  },
  {
   "cell_type": "markdown",
   "metadata": {},
   "source": [
    "#### None of the features seem to have outliers\n",
    "\n",
    "### Feature Analysis\n",
    "#### no_of_images"
   ]
  },
  {
   "cell_type": "code",
   "execution_count": 41,
   "metadata": {},
   "outputs": [
    {
     "data": {
      "text/html": [
       "<div>\n",
       "<style>\n",
       "    .dataframe thead tr:only-child th {\n",
       "        text-align: right;\n",
       "    }\n",
       "\n",
       "    .dataframe thead th {\n",
       "        text-align: left;\n",
       "    }\n",
       "\n",
       "    .dataframe tbody tr th {\n",
       "        vertical-align: top;\n",
       "    }\n",
       "</style>\n",
       "<table border=\"1\" class=\"dataframe\">\n",
       "  <thead>\n",
       "    <tr style=\"text-align: right;\">\n",
       "      <th></th>\n",
       "      <th>median</th>\n",
       "      <th>count</th>\n",
       "      <th>mean</th>\n",
       "    </tr>\n",
       "    <tr>\n",
       "      <th>is_open</th>\n",
       "      <th></th>\n",
       "      <th></th>\n",
       "      <th></th>\n",
       "    </tr>\n",
       "  </thead>\n",
       "  <tbody>\n",
       "    <tr>\n",
       "      <th>0</th>\n",
       "      <td>12</td>\n",
       "      <td>920401</td>\n",
       "      <td>10.240</td>\n",
       "    </tr>\n",
       "    <tr>\n",
       "      <th>1</th>\n",
       "      <td>7</td>\n",
       "      <td>102790</td>\n",
       "      <td>7.340</td>\n",
       "    </tr>\n",
       "  </tbody>\n",
       "</table>\n",
       "</div>"
      ],
      "text/plain": [
       "         median   count   mean\n",
       "is_open                       \n",
       "0            12  920401 10.240\n",
       "1             7  102790  7.340"
      ]
     },
     "execution_count": 41,
     "metadata": {},
     "output_type": "execute_result"
    }
   ],
   "source": [
    "train.groupby('is_open')['no_of_images'].agg({'mean', 'median', 'count'})"
   ]
  },
  {
   "cell_type": "code",
   "execution_count": 42,
   "metadata": {},
   "outputs": [
    {
     "data": {
      "text/html": [
       "<div>\n",
       "<style>\n",
       "    .dataframe thead tr:only-child th {\n",
       "        text-align: right;\n",
       "    }\n",
       "\n",
       "    .dataframe thead th {\n",
       "        text-align: left;\n",
       "    }\n",
       "\n",
       "    .dataframe tbody tr th {\n",
       "        vertical-align: top;\n",
       "    }\n",
       "</style>\n",
       "<table border=\"1\" class=\"dataframe\">\n",
       "  <thead>\n",
       "    <tr style=\"text-align: right;\">\n",
       "      <th></th>\n",
       "      <th>median</th>\n",
       "      <th>count</th>\n",
       "      <th>mean</th>\n",
       "    </tr>\n",
       "    <tr>\n",
       "      <th>is_click</th>\n",
       "      <th></th>\n",
       "      <th></th>\n",
       "      <th></th>\n",
       "    </tr>\n",
       "  </thead>\n",
       "  <tbody>\n",
       "    <tr>\n",
       "      <th>0</th>\n",
       "      <td>12</td>\n",
       "      <td>1010409</td>\n",
       "      <td>9.950</td>\n",
       "    </tr>\n",
       "    <tr>\n",
       "      <th>1</th>\n",
       "      <td>12</td>\n",
       "      <td>12782</td>\n",
       "      <td>9.833</td>\n",
       "    </tr>\n",
       "  </tbody>\n",
       "</table>\n",
       "</div>"
      ],
      "text/plain": [
       "          median    count  mean\n",
       "is_click                       \n",
       "0             12  1010409 9.950\n",
       "1             12    12782 9.833"
      ]
     },
     "execution_count": 42,
     "metadata": {},
     "output_type": "execute_result"
    }
   ],
   "source": [
    "train.groupby('is_click')['no_of_images'].agg({'mean', 'median', 'count'})"
   ]
  },
  {
   "cell_type": "code",
   "execution_count": 43,
   "metadata": {},
   "outputs": [
    {
     "data": {
      "text/html": [
       "<div>\n",
       "<style>\n",
       "    .dataframe thead tr:only-child th {\n",
       "        text-align: right;\n",
       "    }\n",
       "\n",
       "    .dataframe thead th {\n",
       "        text-align: left;\n",
       "    }\n",
       "\n",
       "    .dataframe tbody tr th {\n",
       "        vertical-align: top;\n",
       "    }\n",
       "</style>\n",
       "<table border=\"1\" class=\"dataframe\">\n",
       "  <thead>\n",
       "    <tr style=\"text-align: right;\">\n",
       "      <th>no_of_images</th>\n",
       "      <th>1</th>\n",
       "      <th>2</th>\n",
       "      <th>3</th>\n",
       "      <th>5</th>\n",
       "      <th>7</th>\n",
       "      <th>8</th>\n",
       "      <th>10</th>\n",
       "      <th>12</th>\n",
       "      <th>13</th>\n",
       "      <th>16</th>\n",
       "      <th>17</th>\n",
       "      <th>19</th>\n",
       "      <th>All</th>\n",
       "    </tr>\n",
       "    <tr>\n",
       "      <th>is_open</th>\n",
       "      <th></th>\n",
       "      <th></th>\n",
       "      <th></th>\n",
       "      <th></th>\n",
       "      <th></th>\n",
       "      <th></th>\n",
       "      <th></th>\n",
       "      <th></th>\n",
       "      <th></th>\n",
       "      <th></th>\n",
       "      <th></th>\n",
       "      <th></th>\n",
       "      <th></th>\n",
       "    </tr>\n",
       "  </thead>\n",
       "  <tbody>\n",
       "    <tr>\n",
       "      <th>0</th>\n",
       "      <td>0.040</td>\n",
       "      <td>0.094</td>\n",
       "      <td>0.007</td>\n",
       "      <td>0.003</td>\n",
       "      <td>0.116</td>\n",
       "      <td>0.073</td>\n",
       "      <td>0.076</td>\n",
       "      <td>0.186</td>\n",
       "      <td>0.156</td>\n",
       "      <td>0.075</td>\n",
       "      <td>0.037</td>\n",
       "      <td>0.037</td>\n",
       "      <td>0.900</td>\n",
       "    </tr>\n",
       "    <tr>\n",
       "      <th>1</th>\n",
       "      <td>0.010</td>\n",
       "      <td>0.021</td>\n",
       "      <td>0.001</td>\n",
       "      <td>0.001</td>\n",
       "      <td>0.020</td>\n",
       "      <td>0.018</td>\n",
       "      <td>0.004</td>\n",
       "      <td>0.011</td>\n",
       "      <td>0.007</td>\n",
       "      <td>0.004</td>\n",
       "      <td>0.002</td>\n",
       "      <td>0.002</td>\n",
       "      <td>0.100</td>\n",
       "    </tr>\n",
       "    <tr>\n",
       "      <th>All</th>\n",
       "      <td>0.050</td>\n",
       "      <td>0.115</td>\n",
       "      <td>0.007</td>\n",
       "      <td>0.003</td>\n",
       "      <td>0.136</td>\n",
       "      <td>0.092</td>\n",
       "      <td>0.080</td>\n",
       "      <td>0.196</td>\n",
       "      <td>0.163</td>\n",
       "      <td>0.080</td>\n",
       "      <td>0.039</td>\n",
       "      <td>0.039</td>\n",
       "      <td>1.000</td>\n",
       "    </tr>\n",
       "  </tbody>\n",
       "</table>\n",
       "</div>"
      ],
      "text/plain": [
       "no_of_images     1     2     3     5     7     8    10    12    13    16  \\\n",
       "is_open                                                                    \n",
       "0            0.040 0.094 0.007 0.003 0.116 0.073 0.076 0.186 0.156 0.075   \n",
       "1            0.010 0.021 0.001 0.001 0.020 0.018 0.004 0.011 0.007 0.004   \n",
       "All          0.050 0.115 0.007 0.003 0.136 0.092 0.080 0.196 0.163 0.080   \n",
       "\n",
       "no_of_images    17    19   All  \n",
       "is_open                         \n",
       "0            0.037 0.037 0.900  \n",
       "1            0.002 0.002 0.100  \n",
       "All          0.039 0.039 1.000  "
      ]
     },
     "execution_count": 43,
     "metadata": {},
     "output_type": "execute_result"
    }
   ],
   "source": [
    "pd.crosstab(train['is_open'], train['no_of_images'], margins=True, normalize=True)"
   ]
  },
  {
   "cell_type": "code",
   "execution_count": 51,
   "metadata": {},
   "outputs": [
    {
     "data": {
      "image/png": "[encoded data removed]",
      "text/plain": [
       "<matplotlib.figure.Figure at 0x2144da8a6a0>"
      ]
     },
     "metadata": {},
     "output_type": "display_data"
    }
   ],
   "source": [
    "pd.crosstab(train['is_open'], train['no_of_images'], margins=False, normalize=True).plot(kind='bar', legend=False, figsize=(16, 10));"
   ]
  },
  {
   "cell_type": "code",
   "execution_count": 49,
   "metadata": {},
   "outputs": [
    {
     "data": {
      "text/html": [
       "<div>\n",
       "<style>\n",
       "    .dataframe thead tr:only-child th {\n",
       "        text-align: right;\n",
       "    }\n",
       "\n",
       "    .dataframe thead th {\n",
       "        text-align: left;\n",
       "    }\n",
       "\n",
       "    .dataframe tbody tr th {\n",
       "        vertical-align: top;\n",
       "    }\n",
       "</style>\n",
       "<table border=\"1\" class=\"dataframe\">\n",
       "  <thead>\n",
       "    <tr style=\"text-align: right;\">\n",
       "      <th>no_of_images</th>\n",
       "      <th>1</th>\n",
       "      <th>2</th>\n",
       "      <th>3</th>\n",
       "      <th>5</th>\n",
       "      <th>7</th>\n",
       "      <th>8</th>\n",
       "      <th>10</th>\n",
       "      <th>12</th>\n",
       "      <th>13</th>\n",
       "      <th>16</th>\n",
       "      <th>17</th>\n",
       "      <th>19</th>\n",
       "      <th>All</th>\n",
       "    </tr>\n",
       "    <tr>\n",
       "      <th>is_click</th>\n",
       "      <th></th>\n",
       "      <th></th>\n",
       "      <th></th>\n",
       "      <th></th>\n",
       "      <th></th>\n",
       "      <th></th>\n",
       "      <th></th>\n",
       "      <th></th>\n",
       "      <th></th>\n",
       "      <th></th>\n",
       "      <th></th>\n",
       "      <th></th>\n",
       "      <th></th>\n",
       "    </tr>\n",
       "  </thead>\n",
       "  <tbody>\n",
       "    <tr>\n",
       "      <th>0</th>\n",
       "      <td>0.049</td>\n",
       "      <td>0.113</td>\n",
       "      <td>0.007</td>\n",
       "      <td>0.003</td>\n",
       "      <td>0.135</td>\n",
       "      <td>0.091</td>\n",
       "      <td>0.079</td>\n",
       "      <td>0.194</td>\n",
       "      <td>0.161</td>\n",
       "      <td>0.078</td>\n",
       "      <td>0.038</td>\n",
       "      <td>0.038</td>\n",
       "      <td>0.988</td>\n",
       "    </tr>\n",
       "    <tr>\n",
       "      <th>1</th>\n",
       "      <td>0.001</td>\n",
       "      <td>0.002</td>\n",
       "      <td>0.000</td>\n",
       "      <td>0.000</td>\n",
       "      <td>0.002</td>\n",
       "      <td>0.001</td>\n",
       "      <td>0.001</td>\n",
       "      <td>0.002</td>\n",
       "      <td>0.002</td>\n",
       "      <td>0.001</td>\n",
       "      <td>0.001</td>\n",
       "      <td>0.000</td>\n",
       "      <td>0.012</td>\n",
       "    </tr>\n",
       "    <tr>\n",
       "      <th>All</th>\n",
       "      <td>0.050</td>\n",
       "      <td>0.115</td>\n",
       "      <td>0.007</td>\n",
       "      <td>0.003</td>\n",
       "      <td>0.136</td>\n",
       "      <td>0.092</td>\n",
       "      <td>0.080</td>\n",
       "      <td>0.196</td>\n",
       "      <td>0.163</td>\n",
       "      <td>0.080</td>\n",
       "      <td>0.039</td>\n",
       "      <td>0.039</td>\n",
       "      <td>1.000</td>\n",
       "    </tr>\n",
       "  </tbody>\n",
       "</table>\n",
       "</div>"
      ],
      "text/plain": [
       "no_of_images     1     2     3     5     7     8    10    12    13    16  \\\n",
       "is_click                                                                   \n",
       "0            0.049 0.113 0.007 0.003 0.135 0.091 0.079 0.194 0.161 0.078   \n",
       "1            0.001 0.002 0.000 0.000 0.002 0.001 0.001 0.002 0.002 0.001   \n",
       "All          0.050 0.115 0.007 0.003 0.136 0.092 0.080 0.196 0.163 0.080   \n",
       "\n",
       "no_of_images    17    19   All  \n",
       "is_click                        \n",
       "0            0.038 0.038 0.988  \n",
       "1            0.001 0.000 0.012  \n",
       "All          0.039 0.039 1.000  "
      ]
     },
     "execution_count": 49,
     "metadata": {},
     "output_type": "execute_result"
    }
   ],
   "source": [
    "pd.crosstab(train['is_click'], train['no_of_images'], margins=True, normalize=True)"
   ]
  },
  {
   "cell_type": "code",
   "execution_count": 52,
   "metadata": {},
   "outputs": [
    {
     "data": {
      "image/png": "[encoded data removed]",
      "text/plain": [
       "<matplotlib.figure.Figure at 0x2144db86b38>"
      ]
     },
     "metadata": {},
     "output_type": "display_data"
    }
   ],
   "source": [
    "pd.crosstab(train['is_click'], train['no_of_images'], margins=False, normalize=True).plot(kind='bar', legend=False, figsize=(16, 10));"
   ]
  },
  {
   "cell_type": "markdown",
   "metadata": {},
   "source": [
    "It seems people are not opening contents if there more than 8 links. <br/>\n",
    "Let's test the hypothesis."
   ]
  },
  {
   "cell_type": "code",
   "execution_count": 58,
   "metadata": {
    "collapsed": true
   },
   "outputs": [],
   "source": [
    "lt_eq_8 = train[(train['no_of_images'] <= 8) & (train['is_open'] == 1)]['id'].count() / train[(train['no_of_images'] <= 8)]['id'].count()\n",
    "gt_8 = train[(train['no_of_images'] > 8) & (train['is_open'] == 1)]['id'].count() / train[(train['no_of_images'] > 8)]['id'].count()"
   ]
  },
  {
   "cell_type": "code",
   "execution_count": 61,
   "metadata": {},
   "outputs": [
    {
     "name": "stdout",
     "output_type": "stream",
     "text": [
      "P(open | img <= 8) = 0.175590768605\n",
      "P(open | img > 8) = 0.0496396265026\n"
     ]
    }
   ],
   "source": [
    "print('P(open | img <= 8) = ' + str(lt_eq_8))\n",
    "print('P(open | img > 8) = ' + str(gt_8))"
   ]
  },
  {
   "cell_type": "markdown",
   "metadata": {},
   "source": [
    "#### We can observe following:\n",
    "- No significant correlation between no_of_images and is_open\n",
    "- Contents with 8 or less images have slightly higher chances of being opened\n",
    "- No correlation between no_of_images and is_click"
   ]
  },
  {
   "cell_type": "markdown",
   "metadata": {},
   "source": [
    "#### Let's try binning the no_of_images\n",
    "bin range: 1-3, 3-6, 6-9, 9-12, 12-15, 15-18, 18-21"
   ]
  },
  {
   "cell_type": "code",
   "execution_count": 23,
   "metadata": {
    "collapsed": true
   },
   "outputs": [],
   "source": [
    "train['bin_no_of_images'] = pd.cut(train['no_of_images'], \n",
    "                                   [0, 3, 6, 9, 12, 15, 18, 21], \n",
    "                                   labels=['1-3', '3-6', '6-9', '9-12', '12-15', '15-18', '18-21'])"
   ]
  },
  {
   "cell_type": "code",
   "execution_count": 28,
   "metadata": {},
   "outputs": [
    {
     "data": {
      "text/html": [
       "<div>\n",
       "<style>\n",
       "    .dataframe thead tr:only-child th {\n",
       "        text-align: right;\n",
       "    }\n",
       "\n",
       "    .dataframe thead th {\n",
       "        text-align: left;\n",
       "    }\n",
       "\n",
       "    .dataframe tbody tr th {\n",
       "        vertical-align: top;\n",
       "    }\n",
       "</style>\n",
       "<table border=\"1\" class=\"dataframe\">\n",
       "  <thead>\n",
       "    <tr style=\"text-align: right;\">\n",
       "      <th></th>\n",
       "      <th>sum</th>\n",
       "      <th>count</th>\n",
       "      <th>&lt;lambda&gt;</th>\n",
       "    </tr>\n",
       "    <tr>\n",
       "      <th>bin_no_of_images</th>\n",
       "      <th></th>\n",
       "      <th></th>\n",
       "      <th></th>\n",
       "    </tr>\n",
       "  </thead>\n",
       "  <tbody>\n",
       "    <tr>\n",
       "      <th>1-3</th>\n",
       "      <td>32809</td>\n",
       "      <td>176337</td>\n",
       "      <td>0.186</td>\n",
       "    </tr>\n",
       "    <tr>\n",
       "      <th>12-15</th>\n",
       "      <td>7434</td>\n",
       "      <td>166684</td>\n",
       "      <td>0.045</td>\n",
       "    </tr>\n",
       "    <tr>\n",
       "      <th>15-18</th>\n",
       "      <td>6158</td>\n",
       "      <td>121068</td>\n",
       "      <td>0.051</td>\n",
       "    </tr>\n",
       "    <tr>\n",
       "      <th>18-21</th>\n",
       "      <td>1856</td>\n",
       "      <td>39498</td>\n",
       "      <td>0.047</td>\n",
       "    </tr>\n",
       "    <tr>\n",
       "      <th>3-6</th>\n",
       "      <td>549</td>\n",
       "      <td>3192</td>\n",
       "      <td>0.172</td>\n",
       "    </tr>\n",
       "    <tr>\n",
       "      <th>6-9</th>\n",
       "      <td>39135</td>\n",
       "      <td>233323</td>\n",
       "      <td>0.168</td>\n",
       "    </tr>\n",
       "    <tr>\n",
       "      <th>9-12</th>\n",
       "      <td>14849</td>\n",
       "      <td>283089</td>\n",
       "      <td>0.052</td>\n",
       "    </tr>\n",
       "  </tbody>\n",
       "</table>\n",
       "</div>"
      ],
      "text/plain": [
       "                    sum   count  <lambda>\n",
       "bin_no_of_images                         \n",
       "1-3               32809  176337     0.186\n",
       "12-15              7434  166684     0.045\n",
       "15-18              6158  121068     0.051\n",
       "18-21              1856   39498     0.047\n",
       "3-6                 549    3192     0.172\n",
       "6-9               39135  233323     0.168\n",
       "9-12              14849  283089     0.052"
      ]
     },
     "execution_count": 28,
     "metadata": {},
     "output_type": "execute_result"
    }
   ],
   "source": [
    "train.groupby('bin_no_of_images')['is_open'].agg({'count', 'sum', lambda x: x.sum() / x.count()})"
   ]
  },
  {
   "cell_type": "code",
   "execution_count": 29,
   "metadata": {},
   "outputs": [
    {
     "data": {
      "text/html": [
       "<div>\n",
       "<style>\n",
       "    .dataframe thead tr:only-child th {\n",
       "        text-align: right;\n",
       "    }\n",
       "\n",
       "    .dataframe thead th {\n",
       "        text-align: left;\n",
       "    }\n",
       "\n",
       "    .dataframe tbody tr th {\n",
       "        vertical-align: top;\n",
       "    }\n",
       "</style>\n",
       "<table border=\"1\" class=\"dataframe\">\n",
       "  <thead>\n",
       "    <tr style=\"text-align: right;\">\n",
       "      <th></th>\n",
       "      <th>sum</th>\n",
       "      <th>count</th>\n",
       "      <th>&lt;lambda&gt;</th>\n",
       "    </tr>\n",
       "    <tr>\n",
       "      <th>bin_no_of_images</th>\n",
       "      <th></th>\n",
       "      <th></th>\n",
       "      <th></th>\n",
       "    </tr>\n",
       "  </thead>\n",
       "  <tbody>\n",
       "    <tr>\n",
       "      <th>1-3</th>\n",
       "      <td>2437</td>\n",
       "      <td>176337</td>\n",
       "      <td>0.014</td>\n",
       "    </tr>\n",
       "    <tr>\n",
       "      <th>12-15</th>\n",
       "      <td>1904</td>\n",
       "      <td>166684</td>\n",
       "      <td>0.011</td>\n",
       "    </tr>\n",
       "    <tr>\n",
       "      <th>15-18</th>\n",
       "      <td>1612</td>\n",
       "      <td>121068</td>\n",
       "      <td>0.013</td>\n",
       "    </tr>\n",
       "    <tr>\n",
       "      <th>18-21</th>\n",
       "      <td>462</td>\n",
       "      <td>39498</td>\n",
       "      <td>0.012</td>\n",
       "    </tr>\n",
       "    <tr>\n",
       "      <th>3-6</th>\n",
       "      <td>78</td>\n",
       "      <td>3192</td>\n",
       "      <td>0.024</td>\n",
       "    </tr>\n",
       "    <tr>\n",
       "      <th>6-9</th>\n",
       "      <td>2581</td>\n",
       "      <td>233323</td>\n",
       "      <td>0.011</td>\n",
       "    </tr>\n",
       "    <tr>\n",
       "      <th>9-12</th>\n",
       "      <td>3708</td>\n",
       "      <td>283089</td>\n",
       "      <td>0.013</td>\n",
       "    </tr>\n",
       "  </tbody>\n",
       "</table>\n",
       "</div>"
      ],
      "text/plain": [
       "                   sum   count  <lambda>\n",
       "bin_no_of_images                        \n",
       "1-3               2437  176337     0.014\n",
       "12-15             1904  166684     0.011\n",
       "15-18             1612  121068     0.013\n",
       "18-21              462   39498     0.012\n",
       "3-6                 78    3192     0.024\n",
       "6-9               2581  233323     0.011\n",
       "9-12              3708  283089     0.013"
      ]
     },
     "execution_count": 29,
     "metadata": {},
     "output_type": "execute_result"
    }
   ],
   "source": [
    "train.groupby('bin_no_of_images')['is_click'].agg({'count', 'sum', lambda x: x.sum() / x.count()})"
   ]
  },
  {
   "cell_type": "code",
   "execution_count": 30,
   "metadata": {},
   "outputs": [
    {
     "data": {
      "text/html": [
       "<div>\n",
       "<style>\n",
       "    .dataframe thead tr:only-child th {\n",
       "        text-align: right;\n",
       "    }\n",
       "\n",
       "    .dataframe thead th {\n",
       "        text-align: left;\n",
       "    }\n",
       "\n",
       "    .dataframe tbody tr th {\n",
       "        vertical-align: top;\n",
       "    }\n",
       "</style>\n",
       "<table border=\"1\" class=\"dataframe\">\n",
       "  <thead>\n",
       "    <tr style=\"text-align: right;\">\n",
       "      <th></th>\n",
       "      <th>sum</th>\n",
       "      <th>count</th>\n",
       "      <th>&lt;lambda&gt;</th>\n",
       "    </tr>\n",
       "    <tr>\n",
       "      <th>bin_no_of_images</th>\n",
       "      <th></th>\n",
       "      <th></th>\n",
       "      <th></th>\n",
       "    </tr>\n",
       "  </thead>\n",
       "  <tbody>\n",
       "    <tr>\n",
       "      <th>1-3</th>\n",
       "      <td>2437</td>\n",
       "      <td>32809</td>\n",
       "      <td>0.074</td>\n",
       "    </tr>\n",
       "    <tr>\n",
       "      <th>12-15</th>\n",
       "      <td>1904</td>\n",
       "      <td>7434</td>\n",
       "      <td>0.256</td>\n",
       "    </tr>\n",
       "    <tr>\n",
       "      <th>15-18</th>\n",
       "      <td>1612</td>\n",
       "      <td>6158</td>\n",
       "      <td>0.262</td>\n",
       "    </tr>\n",
       "    <tr>\n",
       "      <th>18-21</th>\n",
       "      <td>462</td>\n",
       "      <td>1856</td>\n",
       "      <td>0.249</td>\n",
       "    </tr>\n",
       "    <tr>\n",
       "      <th>3-6</th>\n",
       "      <td>78</td>\n",
       "      <td>549</td>\n",
       "      <td>0.142</td>\n",
       "    </tr>\n",
       "    <tr>\n",
       "      <th>6-9</th>\n",
       "      <td>2581</td>\n",
       "      <td>39135</td>\n",
       "      <td>0.066</td>\n",
       "    </tr>\n",
       "    <tr>\n",
       "      <th>9-12</th>\n",
       "      <td>3708</td>\n",
       "      <td>14849</td>\n",
       "      <td>0.250</td>\n",
       "    </tr>\n",
       "  </tbody>\n",
       "</table>\n",
       "</div>"
      ],
      "text/plain": [
       "                   sum  count  <lambda>\n",
       "bin_no_of_images                       \n",
       "1-3               2437  32809     0.074\n",
       "12-15             1904   7434     0.256\n",
       "15-18             1612   6158     0.262\n",
       "18-21              462   1856     0.249\n",
       "3-6                 78    549     0.142\n",
       "6-9               2581  39135     0.066\n",
       "9-12              3708  14849     0.250"
      ]
     },
     "execution_count": 30,
     "metadata": {},
     "output_type": "execute_result"
    }
   ],
   "source": [
    "train[(train['is_open'] == 1)].groupby('bin_no_of_images')['is_click'].agg({'count', 'sum', lambda x: x.sum() / x.count()})"
   ]
  },
  {
   "cell_type": "markdown",
   "metadata": {},
   "source": [
    "#### We can observe following:\n",
    "- If the email was opened and images are greater than 8, then it is more likely to be clicked."
   ]
  },
  {
   "cell_type": "markdown",
   "metadata": {},
   "source": [
    "#### no_of_internal_links"
   ]
  },
  {
   "cell_type": "code",
   "execution_count": 31,
   "metadata": {},
   "outputs": [
    {
     "data": {
      "text/html": [
       "<div>\n",
       "<style>\n",
       "    .dataframe thead tr:only-child th {\n",
       "        text-align: right;\n",
       "    }\n",
       "\n",
       "    .dataframe thead th {\n",
       "        text-align: left;\n",
       "    }\n",
       "\n",
       "    .dataframe tbody tr th {\n",
       "        vertical-align: top;\n",
       "    }\n",
       "</style>\n",
       "<table border=\"1\" class=\"dataframe\">\n",
       "  <thead>\n",
       "    <tr style=\"text-align: right;\">\n",
       "      <th></th>\n",
       "      <th>mean</th>\n",
       "      <th>median</th>\n",
       "      <th>count</th>\n",
       "    </tr>\n",
       "    <tr>\n",
       "      <th>is_open</th>\n",
       "      <th></th>\n",
       "      <th></th>\n",
       "      <th></th>\n",
       "    </tr>\n",
       "  </thead>\n",
       "  <tbody>\n",
       "    <tr>\n",
       "      <th>0</th>\n",
       "      <td>64.676</td>\n",
       "      <td>62</td>\n",
       "      <td>920401</td>\n",
       "    </tr>\n",
       "    <tr>\n",
       "      <th>1</th>\n",
       "      <td>42.200</td>\n",
       "      <td>19</td>\n",
       "      <td>102790</td>\n",
       "    </tr>\n",
       "  </tbody>\n",
       "</table>\n",
       "</div>"
      ],
      "text/plain": [
       "          mean  median   count\n",
       "is_open                       \n",
       "0       64.676      62  920401\n",
       "1       42.200      19  102790"
      ]
     },
     "execution_count": 31,
     "metadata": {},
     "output_type": "execute_result"
    }
   ],
   "source": [
    "train.groupby('is_open')['no_of_internal_links'].agg({'mean', 'median', 'count'})"
   ]
  },
  {
   "cell_type": "code",
   "execution_count": 32,
   "metadata": {},
   "outputs": [
    {
     "data": {
      "text/html": [
       "<div>\n",
       "<style>\n",
       "    .dataframe thead tr:only-child th {\n",
       "        text-align: right;\n",
       "    }\n",
       "\n",
       "    .dataframe thead th {\n",
       "        text-align: left;\n",
       "    }\n",
       "\n",
       "    .dataframe tbody tr th {\n",
       "        vertical-align: top;\n",
       "    }\n",
       "</style>\n",
       "<table border=\"1\" class=\"dataframe\">\n",
       "  <thead>\n",
       "    <tr style=\"text-align: right;\">\n",
       "      <th></th>\n",
       "      <th>mean</th>\n",
       "      <th>median</th>\n",
       "      <th>count</th>\n",
       "    </tr>\n",
       "    <tr>\n",
       "      <th>is_click</th>\n",
       "      <th></th>\n",
       "      <th></th>\n",
       "      <th></th>\n",
       "    </tr>\n",
       "  </thead>\n",
       "  <tbody>\n",
       "    <tr>\n",
       "      <th>0</th>\n",
       "      <td>62.437</td>\n",
       "      <td>61</td>\n",
       "      <td>1010409</td>\n",
       "    </tr>\n",
       "    <tr>\n",
       "      <th>1</th>\n",
       "      <td>60.989</td>\n",
       "      <td>61</td>\n",
       "      <td>12782</td>\n",
       "    </tr>\n",
       "  </tbody>\n",
       "</table>\n",
       "</div>"
      ],
      "text/plain": [
       "           mean  median    count\n",
       "is_click                        \n",
       "0        62.437      61  1010409\n",
       "1        60.989      61    12782"
      ]
     },
     "execution_count": 32,
     "metadata": {},
     "output_type": "execute_result"
    }
   ],
   "source": [
    "train.groupby('is_click')['no_of_internal_links'].agg({'mean', 'median', 'count'})"
   ]
  },
  {
   "cell_type": "code",
   "execution_count": 33,
   "metadata": {},
   "outputs": [
    {
     "data": {
      "text/plain": [
       "no_of_internal_links\n",
       "2     0.171\n",
       "3     0.229\n",
       "4     0.288\n",
       "7     0.124\n",
       "8     0.154\n",
       "10    0.127\n",
       "11    0.132\n",
       "13    0.172\n",
       "14    0.142\n",
       "19    0.148\n",
       "26    0.035\n",
       "56    0.047\n",
       "58    0.201\n",
       "61    0.065\n",
       "62    0.049\n",
       "64    0.047\n",
       "79    0.053\n",
       "100   0.037\n",
       "105   0.049\n",
       "117   0.052\n",
       "191   0.051\n",
       "Name: id, dtype: float64"
      ]
     },
     "execution_count": 33,
     "metadata": {},
     "output_type": "execute_result"
    }
   ],
   "source": [
    "train[(train['is_open'] == 1)].groupby('no_of_internal_links')['id'].count() / train.groupby('no_of_internal_links')['id'].count()"
   ]
  },
  {
   "cell_type": "code",
   "execution_count": 74,
   "metadata": {},
   "outputs": [
    {
     "data": {
      "image/png": "[encoded data removed]",
      "text/plain": [
       "<matplotlib.figure.Figure at 0x2145afe4208>"
      ]
     },
     "metadata": {},
     "output_type": "display_data"
    }
   ],
   "source": [
    "(train[(train['is_open'] == 1)].groupby('no_of_internal_links')['id'].count() / train.groupby('no_of_internal_links')['id'].count()).plot(kind='bar');"
   ]
  },
  {
   "cell_type": "code",
   "execution_count": 72,
   "metadata": {},
   "outputs": [
    {
     "data": {
      "text/plain": [
       "no_of_internal_links\n",
       "2     0.044\n",
       "3     0.019\n",
       "4     0.026\n",
       "7     0.007\n",
       "8     0.012\n",
       "10    0.015\n",
       "11    0.005\n",
       "13    0.024\n",
       "14    0.013\n",
       "19    0.011\n",
       "26    0.008\n",
       "56    0.012\n",
       "58    0.010\n",
       "61    0.017\n",
       "62    0.014\n",
       "64    0.010\n",
       "79    0.013\n",
       "100   0.010\n",
       "105   0.014\n",
       "117   0.013\n",
       "191   0.012\n",
       "Name: id, dtype: float64"
      ]
     },
     "execution_count": 72,
     "metadata": {},
     "output_type": "execute_result"
    }
   ],
   "source": [
    "train[(train['is_click'] == 1)].groupby('no_of_internal_links')['id'].count() / train.groupby('no_of_internal_links')['id'].count()"
   ]
  },
  {
   "cell_type": "code",
   "execution_count": 76,
   "metadata": {},
   "outputs": [
    {
     "data": {
      "image/png": "[encoded data removed]",
      "text/plain": [
       "<matplotlib.figure.Figure at 0x21463df2828>"
      ]
     },
     "metadata": {},
     "output_type": "display_data"
    }
   ],
   "source": [
    "(train[(train['is_click'] == 1)].groupby('no_of_internal_links')['id'].count() / train.groupby('no_of_internal_links')['id'].count()).plot(kind='bar');"
   ]
  },
  {
   "cell_type": "code",
   "execution_count": 35,
   "metadata": {
    "collapsed": true
   },
   "outputs": [],
   "source": [
    "lt_eq_26 = train[(train['no_of_internal_links'] <= 26) & (train['is_open'] == 1)]['id'].count() / train[(train['no_of_internal_links'] <= 26)]['id'].count()\n",
    "gt_26 = train[(train['no_of_internal_links'] > 26) & (train['is_open'] == 1)]['id'].count() / train[(train['no_of_internal_links'] > 26)]['id'].count()"
   ]
  },
  {
   "cell_type": "code",
   "execution_count": 36,
   "metadata": {},
   "outputs": [
    {
     "name": "stdout",
     "output_type": "stream",
     "text": [
      "P(open | links <= 26) = 0.165106503016\n",
      "P(open | links > 26) = 0.0702130406714\n"
     ]
    }
   ],
   "source": [
    "print('P(open | links <= 26) = ' + str(lt_eq_26))\n",
    "print('P(open | links > 26) = ' + str(gt_26))"
   ]
  },
  {
   "cell_type": "markdown",
   "metadata": {},
   "source": [
    "#### Let's bin the no_of_internal_links\n",
    "bins: 1-30, 30-100, >100"
   ]
  },
  {
   "cell_type": "code",
   "execution_count": 38,
   "metadata": {},
   "outputs": [],
   "source": [
    "train['bin_no_of_internal_links'] = pd.cut(train['no_of_internal_links'], \n",
    "                                   [0, 30, 100, 200], \n",
    "                                   labels=['1-30', '30-100', '>100'])"
   ]
  },
  {
   "cell_type": "code",
   "execution_count": 39,
   "metadata": {},
   "outputs": [
    {
     "data": {
      "text/html": [
       "<div>\n",
       "<style>\n",
       "    .dataframe thead tr:only-child th {\n",
       "        text-align: right;\n",
       "    }\n",
       "\n",
       "    .dataframe thead th {\n",
       "        text-align: left;\n",
       "    }\n",
       "\n",
       "    .dataframe tbody tr th {\n",
       "        vertical-align: top;\n",
       "    }\n",
       "</style>\n",
       "<table border=\"1\" class=\"dataframe\">\n",
       "  <thead>\n",
       "    <tr style=\"text-align: right;\">\n",
       "      <th></th>\n",
       "      <th>sum</th>\n",
       "      <th>count</th>\n",
       "      <th>&lt;lambda&gt;</th>\n",
       "    </tr>\n",
       "    <tr>\n",
       "      <th>bin_no_of_internal_links</th>\n",
       "      <th></th>\n",
       "      <th></th>\n",
       "      <th></th>\n",
       "    </tr>\n",
       "  </thead>\n",
       "  <tbody>\n",
       "    <tr>\n",
       "      <th>1-30</th>\n",
       "      <td>53848</td>\n",
       "      <td>326141</td>\n",
       "      <td>0.165</td>\n",
       "    </tr>\n",
       "    <tr>\n",
       "      <th>30-100</th>\n",
       "      <td>40144</td>\n",
       "      <td>524526</td>\n",
       "      <td>0.077</td>\n",
       "    </tr>\n",
       "    <tr>\n",
       "      <th>&gt;100</th>\n",
       "      <td>8798</td>\n",
       "      <td>172524</td>\n",
       "      <td>0.051</td>\n",
       "    </tr>\n",
       "  </tbody>\n",
       "</table>\n",
       "</div>"
      ],
      "text/plain": [
       "                            sum   count  <lambda>\n",
       "bin_no_of_internal_links                         \n",
       "1-30                      53848  326141     0.165\n",
       "30-100                    40144  524526     0.077\n",
       ">100                       8798  172524     0.051"
      ]
     },
     "execution_count": 39,
     "metadata": {},
     "output_type": "execute_result"
    }
   ],
   "source": [
    "train.groupby('bin_no_of_internal_links')['is_open'].agg({'count', 'sum', lambda x: x.sum() / x.count()})"
   ]
  },
  {
   "cell_type": "code",
   "execution_count": 41,
   "metadata": {},
   "outputs": [
    {
     "data": {
      "text/html": [
       "<div>\n",
       "<style>\n",
       "    .dataframe thead tr:only-child th {\n",
       "        text-align: right;\n",
       "    }\n",
       "\n",
       "    .dataframe thead th {\n",
       "        text-align: left;\n",
       "    }\n",
       "\n",
       "    .dataframe tbody tr th {\n",
       "        vertical-align: top;\n",
       "    }\n",
       "</style>\n",
       "<table border=\"1\" class=\"dataframe\">\n",
       "  <thead>\n",
       "    <tr style=\"text-align: right;\">\n",
       "      <th></th>\n",
       "      <th>sum</th>\n",
       "      <th>count</th>\n",
       "      <th>&lt;lambda&gt;</th>\n",
       "    </tr>\n",
       "    <tr>\n",
       "      <th>bin_no_of_internal_links</th>\n",
       "      <th></th>\n",
       "      <th></th>\n",
       "      <th></th>\n",
       "    </tr>\n",
       "  </thead>\n",
       "  <tbody>\n",
       "    <tr>\n",
       "      <th>1-30</th>\n",
       "      <td>4188</td>\n",
       "      <td>326141</td>\n",
       "      <td>0.013</td>\n",
       "    </tr>\n",
       "    <tr>\n",
       "      <th>30-100</th>\n",
       "      <td>6356</td>\n",
       "      <td>524526</td>\n",
       "      <td>0.012</td>\n",
       "    </tr>\n",
       "    <tr>\n",
       "      <th>&gt;100</th>\n",
       "      <td>2238</td>\n",
       "      <td>172524</td>\n",
       "      <td>0.013</td>\n",
       "    </tr>\n",
       "  </tbody>\n",
       "</table>\n",
       "</div>"
      ],
      "text/plain": [
       "                           sum   count  <lambda>\n",
       "bin_no_of_internal_links                        \n",
       "1-30                      4188  326141     0.013\n",
       "30-100                    6356  524526     0.012\n",
       ">100                      2238  172524     0.013"
      ]
     },
     "execution_count": 41,
     "metadata": {},
     "output_type": "execute_result"
    }
   ],
   "source": [
    "train.groupby('bin_no_of_internal_links')['is_click'].agg({'count', 'sum', lambda x: x.sum() / x.count()})"
   ]
  },
  {
   "cell_type": "code",
   "execution_count": 42,
   "metadata": {},
   "outputs": [
    {
     "data": {
      "text/html": [
       "<div>\n",
       "<style>\n",
       "    .dataframe thead tr:only-child th {\n",
       "        text-align: right;\n",
       "    }\n",
       "\n",
       "    .dataframe thead th {\n",
       "        text-align: left;\n",
       "    }\n",
       "\n",
       "    .dataframe tbody tr th {\n",
       "        vertical-align: top;\n",
       "    }\n",
       "</style>\n",
       "<table border=\"1\" class=\"dataframe\">\n",
       "  <thead>\n",
       "    <tr style=\"text-align: right;\">\n",
       "      <th></th>\n",
       "      <th>&lt;lambda&gt;</th>\n",
       "      <th>sum</th>\n",
       "      <th>count</th>\n",
       "    </tr>\n",
       "    <tr>\n",
       "      <th>bin_no_of_internal_links</th>\n",
       "      <th></th>\n",
       "      <th></th>\n",
       "      <th></th>\n",
       "    </tr>\n",
       "  </thead>\n",
       "  <tbody>\n",
       "    <tr>\n",
       "      <th>1-30</th>\n",
       "      <td>0.078</td>\n",
       "      <td>4188</td>\n",
       "      <td>53848</td>\n",
       "    </tr>\n",
       "    <tr>\n",
       "      <th>30-100</th>\n",
       "      <td>0.158</td>\n",
       "      <td>6356</td>\n",
       "      <td>40144</td>\n",
       "    </tr>\n",
       "    <tr>\n",
       "      <th>&gt;100</th>\n",
       "      <td>0.254</td>\n",
       "      <td>2238</td>\n",
       "      <td>8798</td>\n",
       "    </tr>\n",
       "  </tbody>\n",
       "</table>\n",
       "</div>"
      ],
      "text/plain": [
       "                          <lambda>   sum  count\n",
       "bin_no_of_internal_links                       \n",
       "1-30                         0.078  4188  53848\n",
       "30-100                       0.158  6356  40144\n",
       ">100                         0.254  2238   8798"
      ]
     },
     "execution_count": 42,
     "metadata": {},
     "output_type": "execute_result"
    }
   ],
   "source": [
    "train[(train['is_open'] == 1)].groupby('bin_no_of_internal_links')['is_click'].agg({'count', 'sum', lambda x: x.sum() / x.count()})"
   ]
  },
  {
   "cell_type": "markdown",
   "metadata": {},
   "source": [
    "#### total_links"
   ]
  },
  {
   "cell_type": "code",
   "execution_count": 45,
   "metadata": {},
   "outputs": [
    {
     "data": {
      "text/plain": [
       "total_links\n",
       "7     0.229\n",
       "8     0.276\n",
       "9     0.188\n",
       "10    0.154\n",
       "11    0.313\n",
       "13    0.132\n",
       "14    0.127\n",
       "15    0.172\n",
       "18    0.142\n",
       "24    0.148\n",
       "28    0.035\n",
       "60    0.047\n",
       "63    0.201\n",
       "67    0.056\n",
       "75    0.047\n",
       "88    0.053\n",
       "104   0.037\n",
       "109   0.049\n",
       "119   0.052\n",
       "203   0.051\n",
       "Name: id, dtype: float64"
      ]
     },
     "execution_count": 45,
     "metadata": {},
     "output_type": "execute_result"
    }
   ],
   "source": [
    "train[(train['is_open']) == 1].groupby('total_links')['id'].count()/train.groupby('total_links')['id'].count()"
   ]
  },
  {
   "cell_type": "code",
   "execution_count": 46,
   "metadata": {
    "collapsed": true
   },
   "outputs": [],
   "source": [
    "train['bin_total_links'] = pd.cut(train['total_links'], \n",
    "                                   [0, 30, 100, 210], \n",
    "                                   labels=['1-30', '30-100', '>100'])"
   ]
  },
  {
   "cell_type": "code",
   "execution_count": 47,
   "metadata": {},
   "outputs": [
    {
     "data": {
      "text/html": [
       "<div>\n",
       "<style>\n",
       "    .dataframe thead tr:only-child th {\n",
       "        text-align: right;\n",
       "    }\n",
       "\n",
       "    .dataframe thead th {\n",
       "        text-align: left;\n",
       "    }\n",
       "\n",
       "    .dataframe tbody tr th {\n",
       "        vertical-align: top;\n",
       "    }\n",
       "</style>\n",
       "<table border=\"1\" class=\"dataframe\">\n",
       "  <thead>\n",
       "    <tr style=\"text-align: right;\">\n",
       "      <th></th>\n",
       "      <th>sum</th>\n",
       "      <th>count</th>\n",
       "      <th>&lt;lambda&gt;</th>\n",
       "    </tr>\n",
       "    <tr>\n",
       "      <th>bin_total_links</th>\n",
       "      <th></th>\n",
       "      <th></th>\n",
       "      <th></th>\n",
       "    </tr>\n",
       "  </thead>\n",
       "  <tbody>\n",
       "    <tr>\n",
       "      <th>1-30</th>\n",
       "      <td>53848</td>\n",
       "      <td>326141</td>\n",
       "      <td>0.165</td>\n",
       "    </tr>\n",
       "    <tr>\n",
       "      <th>30-100</th>\n",
       "      <td>37022</td>\n",
       "      <td>439095</td>\n",
       "      <td>0.084</td>\n",
       "    </tr>\n",
       "    <tr>\n",
       "      <th>&gt;100</th>\n",
       "      <td>11920</td>\n",
       "      <td>257955</td>\n",
       "      <td>0.046</td>\n",
       "    </tr>\n",
       "  </tbody>\n",
       "</table>\n",
       "</div>"
      ],
      "text/plain": [
       "                   sum   count  <lambda>\n",
       "bin_total_links                         \n",
       "1-30             53848  326141     0.165\n",
       "30-100           37022  439095     0.084\n",
       ">100             11920  257955     0.046"
      ]
     },
     "execution_count": 47,
     "metadata": {},
     "output_type": "execute_result"
    }
   ],
   "source": [
    "train.groupby('bin_total_links')['is_open'].agg({'count', 'sum', lambda x: x.sum() / x.count()})"
   ]
  },
  {
   "cell_type": "code",
   "execution_count": 48,
   "metadata": {},
   "outputs": [
    {
     "data": {
      "text/html": [
       "<div>\n",
       "<style>\n",
       "    .dataframe thead tr:only-child th {\n",
       "        text-align: right;\n",
       "    }\n",
       "\n",
       "    .dataframe thead th {\n",
       "        text-align: left;\n",
       "    }\n",
       "\n",
       "    .dataframe tbody tr th {\n",
       "        vertical-align: top;\n",
       "    }\n",
       "</style>\n",
       "<table border=\"1\" class=\"dataframe\">\n",
       "  <thead>\n",
       "    <tr style=\"text-align: right;\">\n",
       "      <th></th>\n",
       "      <th>&lt;lambda&gt;</th>\n",
       "      <th>sum</th>\n",
       "      <th>count</th>\n",
       "    </tr>\n",
       "    <tr>\n",
       "      <th>bin_total_links</th>\n",
       "      <th></th>\n",
       "      <th></th>\n",
       "      <th></th>\n",
       "    </tr>\n",
       "  </thead>\n",
       "  <tbody>\n",
       "    <tr>\n",
       "      <th>1-30</th>\n",
       "      <td>0.013</td>\n",
       "      <td>4188</td>\n",
       "      <td>326141</td>\n",
       "    </tr>\n",
       "    <tr>\n",
       "      <th>30-100</th>\n",
       "      <td>0.013</td>\n",
       "      <td>5494</td>\n",
       "      <td>439095</td>\n",
       "    </tr>\n",
       "    <tr>\n",
       "      <th>&gt;100</th>\n",
       "      <td>0.012</td>\n",
       "      <td>3100</td>\n",
       "      <td>257955</td>\n",
       "    </tr>\n",
       "  </tbody>\n",
       "</table>\n",
       "</div>"
      ],
      "text/plain": [
       "                 <lambda>   sum   count\n",
       "bin_total_links                        \n",
       "1-30                0.013  4188  326141\n",
       "30-100              0.013  5494  439095\n",
       ">100                0.012  3100  257955"
      ]
     },
     "execution_count": 48,
     "metadata": {},
     "output_type": "execute_result"
    }
   ],
   "source": [
    "train.groupby('bin_total_links')['is_click'].agg({'count', 'sum', lambda x: x.sum() / x.count()})"
   ]
  },
  {
   "cell_type": "code",
   "execution_count": 49,
   "metadata": {},
   "outputs": [
    {
     "data": {
      "text/html": [
       "<div>\n",
       "<style>\n",
       "    .dataframe thead tr:only-child th {\n",
       "        text-align: right;\n",
       "    }\n",
       "\n",
       "    .dataframe thead th {\n",
       "        text-align: left;\n",
       "    }\n",
       "\n",
       "    .dataframe tbody tr th {\n",
       "        vertical-align: top;\n",
       "    }\n",
       "</style>\n",
       "<table border=\"1\" class=\"dataframe\">\n",
       "  <thead>\n",
       "    <tr style=\"text-align: right;\">\n",
       "      <th></th>\n",
       "      <th>sum</th>\n",
       "      <th>count</th>\n",
       "      <th>&lt;lambda&gt;</th>\n",
       "    </tr>\n",
       "    <tr>\n",
       "      <th>bin_total_links</th>\n",
       "      <th></th>\n",
       "      <th></th>\n",
       "      <th></th>\n",
       "    </tr>\n",
       "  </thead>\n",
       "  <tbody>\n",
       "    <tr>\n",
       "      <th>1-30</th>\n",
       "      <td>4188</td>\n",
       "      <td>53848</td>\n",
       "      <td>0.078</td>\n",
       "    </tr>\n",
       "    <tr>\n",
       "      <th>30-100</th>\n",
       "      <td>5494</td>\n",
       "      <td>37022</td>\n",
       "      <td>0.148</td>\n",
       "    </tr>\n",
       "    <tr>\n",
       "      <th>&gt;100</th>\n",
       "      <td>3100</td>\n",
       "      <td>11920</td>\n",
       "      <td>0.260</td>\n",
       "    </tr>\n",
       "  </tbody>\n",
       "</table>\n",
       "</div>"
      ],
      "text/plain": [
       "                  sum  count  <lambda>\n",
       "bin_total_links                       \n",
       "1-30             4188  53848     0.078\n",
       "30-100           5494  37022     0.148\n",
       ">100             3100  11920     0.260"
      ]
     },
     "execution_count": 49,
     "metadata": {},
     "output_type": "execute_result"
    }
   ],
   "source": [
    "train[(train['is_open'] == 1)].groupby('bin_total_links')['is_click'].agg({'count', 'sum', lambda x: x.sum() / x.count()})"
   ]
  },
  {
   "cell_type": "markdown",
   "metadata": {},
   "source": [
    "#### Calculate no_of_external_links = total_links - no_of_internal_links"
   ]
  },
  {
   "cell_type": "code",
   "execution_count": 50,
   "metadata": {
    "collapsed": true
   },
   "outputs": [],
   "source": [
    "train['no_of_external_links'] = train['total_links'] - train['no_of_internal_links']"
   ]
  },
  {
   "cell_type": "code",
   "execution_count": 51,
   "metadata": {},
   "outputs": [
    {
     "data": {
      "text/plain": [
       "no_of_external_links\n",
       "2    0.092\n",
       "4    0.115\n",
       "5    0.138\n",
       "6    0.065\n",
       "7    0.171\n",
       "9    0.053\n",
       "11   0.047\n",
       "12   0.051\n",
       "Name: is_open, dtype: float64"
      ]
     },
     "execution_count": 51,
     "metadata": {},
     "output_type": "execute_result"
    }
   ],
   "source": [
    "train.groupby('no_of_external_links')['is_open'].sum() / train.groupby('no_of_external_links')['is_open'].count()"
   ]
  },
  {
   "cell_type": "code",
   "execution_count": 52,
   "metadata": {
    "collapsed": true
   },
   "outputs": [],
   "source": [
    "train['bin_no_of_external_links'] = pd.cut(train['no_of_external_links'], \n",
    "                                   [0, 3, 6, 9, 12], \n",
    "                                   labels=['1-3', '3-6', '6-9', '9-12'])"
   ]
  },
  {
   "cell_type": "code",
   "execution_count": 53,
   "metadata": {},
   "outputs": [
    {
     "data": {
      "text/html": [
       "<div>\n",
       "<style>\n",
       "    .dataframe thead tr:only-child th {\n",
       "        text-align: right;\n",
       "    }\n",
       "\n",
       "    .dataframe thead th {\n",
       "        text-align: left;\n",
       "    }\n",
       "\n",
       "    .dataframe tbody tr th {\n",
       "        vertical-align: top;\n",
       "    }\n",
       "</style>\n",
       "<table border=\"1\" class=\"dataframe\">\n",
       "  <thead>\n",
       "    <tr style=\"text-align: right;\">\n",
       "      <th></th>\n",
       "      <th>&lt;lambda&gt;</th>\n",
       "      <th>sum</th>\n",
       "      <th>count</th>\n",
       "    </tr>\n",
       "    <tr>\n",
       "      <th>bin_no_of_external_links</th>\n",
       "      <th></th>\n",
       "      <th></th>\n",
       "      <th></th>\n",
       "    </tr>\n",
       "  </thead>\n",
       "  <tbody>\n",
       "    <tr>\n",
       "      <th>1-3</th>\n",
       "      <td>0.092</td>\n",
       "      <td>16331</td>\n",
       "      <td>177578</td>\n",
       "    </tr>\n",
       "    <tr>\n",
       "      <th>3-6</th>\n",
       "      <td>0.119</td>\n",
       "      <td>75337</td>\n",
       "      <td>635671</td>\n",
       "    </tr>\n",
       "    <tr>\n",
       "      <th>6-9</th>\n",
       "      <td>0.059</td>\n",
       "      <td>5015</td>\n",
       "      <td>85374</td>\n",
       "    </tr>\n",
       "    <tr>\n",
       "      <th>9-12</th>\n",
       "      <td>0.049</td>\n",
       "      <td>6107</td>\n",
       "      <td>124568</td>\n",
       "    </tr>\n",
       "  </tbody>\n",
       "</table>\n",
       "</div>"
      ],
      "text/plain": [
       "                          <lambda>    sum   count\n",
       "bin_no_of_external_links                         \n",
       "1-3                          0.092  16331  177578\n",
       "3-6                          0.119  75337  635671\n",
       "6-9                          0.059   5015   85374\n",
       "9-12                         0.049   6107  124568"
      ]
     },
     "execution_count": 53,
     "metadata": {},
     "output_type": "execute_result"
    }
   ],
   "source": [
    "train.groupby('bin_no_of_external_links')['is_open'].agg({'count', 'sum', lambda x: x.sum()/x.count()})"
   ]
  },
  {
   "cell_type": "code",
   "execution_count": 54,
   "metadata": {},
   "outputs": [
    {
     "data": {
      "text/html": [
       "<div>\n",
       "<style>\n",
       "    .dataframe thead tr:only-child th {\n",
       "        text-align: right;\n",
       "    }\n",
       "\n",
       "    .dataframe thead th {\n",
       "        text-align: left;\n",
       "    }\n",
       "\n",
       "    .dataframe tbody tr th {\n",
       "        vertical-align: top;\n",
       "    }\n",
       "</style>\n",
       "<table border=\"1\" class=\"dataframe\">\n",
       "  <thead>\n",
       "    <tr style=\"text-align: right;\">\n",
       "      <th></th>\n",
       "      <th>sum</th>\n",
       "      <th>count</th>\n",
       "      <th>&lt;lambda&gt;</th>\n",
       "    </tr>\n",
       "    <tr>\n",
       "      <th>bin_no_of_external_links</th>\n",
       "      <th></th>\n",
       "      <th></th>\n",
       "      <th></th>\n",
       "    </tr>\n",
       "  </thead>\n",
       "  <tbody>\n",
       "    <tr>\n",
       "      <th>1-3</th>\n",
       "      <td>1628</td>\n",
       "      <td>177578</td>\n",
       "      <td>0.009</td>\n",
       "    </tr>\n",
       "    <tr>\n",
       "      <th>3-6</th>\n",
       "      <td>8588</td>\n",
       "      <td>635671</td>\n",
       "      <td>0.014</td>\n",
       "    </tr>\n",
       "    <tr>\n",
       "      <th>6-9</th>\n",
       "      <td>1223</td>\n",
       "      <td>85374</td>\n",
       "      <td>0.014</td>\n",
       "    </tr>\n",
       "    <tr>\n",
       "      <th>9-12</th>\n",
       "      <td>1343</td>\n",
       "      <td>124568</td>\n",
       "      <td>0.011</td>\n",
       "    </tr>\n",
       "  </tbody>\n",
       "</table>\n",
       "</div>"
      ],
      "text/plain": [
       "                           sum   count  <lambda>\n",
       "bin_no_of_external_links                        \n",
       "1-3                       1628  177578     0.009\n",
       "3-6                       8588  635671     0.014\n",
       "6-9                       1223   85374     0.014\n",
       "9-12                      1343  124568     0.011"
      ]
     },
     "execution_count": 54,
     "metadata": {},
     "output_type": "execute_result"
    }
   ],
   "source": [
    "train.groupby('bin_no_of_external_links')['is_click'].agg({'count', 'sum', lambda x: x.sum()/x.count()})"
   ]
  },
  {
   "cell_type": "code",
   "execution_count": 55,
   "metadata": {},
   "outputs": [
    {
     "data": {
      "text/html": [
       "<div>\n",
       "<style>\n",
       "    .dataframe thead tr:only-child th {\n",
       "        text-align: right;\n",
       "    }\n",
       "\n",
       "    .dataframe thead th {\n",
       "        text-align: left;\n",
       "    }\n",
       "\n",
       "    .dataframe tbody tr th {\n",
       "        vertical-align: top;\n",
       "    }\n",
       "</style>\n",
       "<table border=\"1\" class=\"dataframe\">\n",
       "  <thead>\n",
       "    <tr style=\"text-align: right;\">\n",
       "      <th></th>\n",
       "      <th>sum</th>\n",
       "      <th>count</th>\n",
       "      <th>&lt;lambda&gt;</th>\n",
       "    </tr>\n",
       "    <tr>\n",
       "      <th>bin_no_of_external_links</th>\n",
       "      <th></th>\n",
       "      <th></th>\n",
       "      <th></th>\n",
       "    </tr>\n",
       "  </thead>\n",
       "  <tbody>\n",
       "    <tr>\n",
       "      <th>1-3</th>\n",
       "      <td>1628</td>\n",
       "      <td>16331</td>\n",
       "      <td>0.100</td>\n",
       "    </tr>\n",
       "    <tr>\n",
       "      <th>3-6</th>\n",
       "      <td>8588</td>\n",
       "      <td>75337</td>\n",
       "      <td>0.114</td>\n",
       "    </tr>\n",
       "    <tr>\n",
       "      <th>6-9</th>\n",
       "      <td>1223</td>\n",
       "      <td>5015</td>\n",
       "      <td>0.244</td>\n",
       "    </tr>\n",
       "    <tr>\n",
       "      <th>9-12</th>\n",
       "      <td>1343</td>\n",
       "      <td>6107</td>\n",
       "      <td>0.220</td>\n",
       "    </tr>\n",
       "  </tbody>\n",
       "</table>\n",
       "</div>"
      ],
      "text/plain": [
       "                           sum  count  <lambda>\n",
       "bin_no_of_external_links                       \n",
       "1-3                       1628  16331     0.100\n",
       "3-6                       8588  75337     0.114\n",
       "6-9                       1223   5015     0.244\n",
       "9-12                      1343   6107     0.220"
      ]
     },
     "execution_count": 55,
     "metadata": {},
     "output_type": "execute_result"
    }
   ],
   "source": [
    "train[(train['is_open'] == 1)].groupby('bin_no_of_external_links')['is_click'].agg({'count', 'sum', lambda x: x.sum()/x.count()})"
   ]
  },
  {
   "cell_type": "markdown",
   "metadata": {},
   "source": [
    "#### Check correlation between total_link, no_of_internal_link and no_of_external_link"
   ]
  },
  {
   "cell_type": "code",
   "execution_count": 61,
   "metadata": {},
   "outputs": [],
   "source": [
    "_corr = train[['total_links', 'no_of_internal_links', 'no_of_external_links']].corr()"
   ]
  },
  {
   "cell_type": "code",
   "execution_count": 64,
   "metadata": {},
   "outputs": [
    {
     "data": {
      "text/plain": [
       "<matplotlib.axes._subplots.AxesSubplot at 0x1be0d48ebe0>"
      ]
     },
     "execution_count": 64,
     "metadata": {},
     "output_type": "execute_result"
    },
    {
     "data": {
      "image/png": "[encoded data removed]",
      "text/plain": [
       "<matplotlib.figure.Figure at 0x1be230f7d68>"
      ]
     },
     "metadata": {},
     "output_type": "display_data"
    }
   ],
   "source": [
    "sns.heatmap(_corr, annot=True, linewidths=.5)"
   ]
  },
  {
   "cell_type": "markdown",
   "metadata": {},
   "source": [
    "#### total_links and no_of_internal_links are highly correlated. Hence we will use the derived attribute no_of_external_links for our model"
   ]
  },
  {
   "cell_type": "markdown",
   "metadata": {},
   "source": [
    "#### no_of_sections"
   ]
  },
  {
   "cell_type": "code",
   "execution_count": 65,
   "metadata": {},
   "outputs": [
    {
     "data": {
      "text/plain": [
       "no_of_sections\n",
       "1   0.125\n",
       "3   0.062\n",
       "4   0.087\n",
       "6   0.048\n",
       "Name: is_open, dtype: float64"
      ]
     },
     "execution_count": 65,
     "metadata": {},
     "output_type": "execute_result"
    }
   ],
   "source": [
    "train.groupby('no_of_sections')['is_open'].sum() / train.groupby('no_of_sections')['is_open'].count() "
   ]
  },
  {
   "cell_type": "code",
   "execution_count": 67,
   "metadata": {},
   "outputs": [
    {
     "data": {
      "text/plain": [
       "no_of_sections\n",
       "1   0.012\n",
       "3   0.016\n",
       "4   0.012\n",
       "6   0.013\n",
       "Name: is_click, dtype: float64"
      ]
     },
     "execution_count": 67,
     "metadata": {},
     "output_type": "execute_result"
    }
   ],
   "source": [
    "train.groupby('no_of_sections')['is_click'].sum() / train.groupby('no_of_sections')['is_click'].count() "
   ]
  },
  {
   "cell_type": "code",
   "execution_count": 69,
   "metadata": {},
   "outputs": [
    {
     "data": {
      "text/plain": [
       "no_of_sections\n",
       "1   0.099\n",
       "3   0.252\n",
       "4   0.136\n",
       "6   0.272\n",
       "Name: is_click, dtype: float64"
      ]
     },
     "execution_count": 69,
     "metadata": {},
     "output_type": "execute_result"
    }
   ],
   "source": [
    "train[(train['is_open'] == 1)].groupby('no_of_sections')['is_click'].sum() / train[(train['is_open'] == 1)].groupby('no_of_sections')['is_click'].count() "
   ]
  },
  {
   "cell_type": "markdown",
   "metadata": {},
   "source": [
    "#### communication_type"
   ]
  },
  {
   "cell_type": "code",
   "execution_count": 77,
   "metadata": {},
   "outputs": [
    {
     "data": {
      "text/plain": [
       "communication_type\n",
       "Conference         332633\n",
       "Corporate            2853\n",
       "Hackathon           33265\n",
       "Newsletter         451053\n",
       "Others              50936\n",
       "Upcoming Events    148964\n",
       "Webinar              3487\n",
       "Name: id, dtype: int64"
      ]
     },
     "execution_count": 77,
     "metadata": {},
     "output_type": "execute_result"
    }
   ],
   "source": [
    "train.groupby('communication_type')['id'].count()"
   ]
  },
  {
   "cell_type": "code",
   "execution_count": 78,
   "metadata": {},
   "outputs": [
    {
     "data": {
      "text/plain": [
       "communication_type\n",
       "Conference        0.090\n",
       "Corporate         0.132\n",
       "Hackathon         0.290\n",
       "Newsletter        0.084\n",
       "Others            0.201\n",
       "Upcoming Events   0.092\n",
       "Webinar           0.352\n",
       "Name: is_open, dtype: float64"
      ]
     },
     "execution_count": 78,
     "metadata": {},
     "output_type": "execute_result"
    }
   ],
   "source": [
    "train.groupby('communication_type')['is_open'].sum() / train.groupby('communication_type')['is_open'].count()"
   ]
  },
  {
   "cell_type": "code",
   "execution_count": 79,
   "metadata": {},
   "outputs": [
    {
     "data": {
      "text/plain": [
       "communication_type\n",
       "Conference        0.010\n",
       "Corporate         0.015\n",
       "Hackathon         0.032\n",
       "Newsletter        0.013\n",
       "Others            0.014\n",
       "Upcoming Events   0.013\n",
       "Webinar           0.046\n",
       "Name: is_click, dtype: float64"
      ]
     },
     "execution_count": 79,
     "metadata": {},
     "output_type": "execute_result"
    }
   ],
   "source": [
    "train.groupby('communication_type')['is_click'].sum() / train.groupby('communication_type')['is_click'].count()"
   ]
  },
  {
   "cell_type": "code",
   "execution_count": 81,
   "metadata": {},
   "outputs": [
    {
     "data": {
      "text/plain": [
       "communication_type\n",
       "Conference        0.108\n",
       "Corporate         0.114\n",
       "Hackathon         0.110\n",
       "Newsletter        0.150\n",
       "Others            0.070\n",
       "Upcoming Events   0.140\n",
       "Webinar           0.131\n",
       "Name: is_click, dtype: float64"
      ]
     },
     "execution_count": 81,
     "metadata": {},
     "output_type": "execute_result"
    }
   ],
   "source": [
    "train[(train['is_open'] == 1)].groupby('communication_type')['is_click'].sum() / train[(train['is_open'] == 1)].groupby('communication_type')['is_click'].count()"
   ]
  },
  {
   "cell_type": "code",
   "execution_count": null,
   "metadata": {
    "collapsed": true
   },
   "outputs": [],
   "source": []
  }
 ],
 "metadata": {
  "kernelspec": {
   "display_name": "Python 3",
   "language": "python",
   "name": "python3"
  },
  "language_info": {
   "codemirror_mode": {
    "name": "ipython",
    "version": 3
   },
   "file_extension": ".py",
   "mimetype": "text/x-python",
   "name": "python",
   "nbconvert_exporter": "python",
   "pygments_lexer": "ipython3",
   "version": "3.6.1"
  }
 },
 "nbformat": 4,
 "nbformat_minor": 2
}
