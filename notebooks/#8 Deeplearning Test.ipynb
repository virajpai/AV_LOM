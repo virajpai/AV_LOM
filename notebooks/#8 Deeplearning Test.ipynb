{
 "cells": [
  {
   "cell_type": "code",
   "execution_count": 1,
   "metadata": {},
   "outputs": [
    {
     "name": "stdout",
     "output_type": "stream",
     "text": [
      "Populating the interactive namespace from numpy and matplotlib\n"
     ]
    }
   ],
   "source": [
    "%pylab inline"
   ]
  },
  {
   "cell_type": "code",
   "execution_count": 2,
   "metadata": {},
   "outputs": [],
   "source": [
    "import pandas as pd\n",
    "from matplotlib import pyplot as plt\n",
    "import seaborn as sns"
   ]
  },
  {
   "cell_type": "code",
   "execution_count": 3,
   "metadata": {},
   "outputs": [],
   "source": [
    "from sklearn.model_selection import train_test_split\n",
    "from sklearn import metrics\n",
    "from sklearn.neural_network import MLPClassifier"
   ]
  },
  {
   "cell_type": "code",
   "execution_count": 4,
   "metadata": {},
   "outputs": [],
   "source": [
    "%run ../src/model_test_lib.py"
   ]
  },
  {
   "cell_type": "code",
   "execution_count": 5,
   "metadata": {},
   "outputs": [],
   "source": [
    "train = pd.read_pickle(r'..\\data\\processed\\train_v1.pkl')"
   ]
  },
  {
   "cell_type": "code",
   "execution_count": 6,
   "metadata": {},
   "outputs": [
    {
     "data": {
      "text/plain": [
       "(1023191, 239)"
      ]
     },
     "execution_count": 6,
     "metadata": {},
     "output_type": "execute_result"
    }
   ],
   "source": [
    "train.shape"
   ]
  },
  {
   "cell_type": "code",
   "execution_count": 7,
   "metadata": {},
   "outputs": [],
   "source": [
    "features = train.columns.tolist()\n",
    "\n",
    "target_open = 'is_open'\n",
    "target_click = 'is_click'\n",
    "pid = 'id'\n",
    "campaign_id = 'campaign_id'\n",
    "user_id = 'user_id'\n",
    "\n",
    "features.remove(target_open)\n",
    "features.remove(target_click)\n",
    "features.remove(pid)\n",
    "features.remove(campaign_id)\n",
    "features.remove(user_id)"
   ]
  },
  {
   "cell_type": "code",
   "execution_count": 8,
   "metadata": {},
   "outputs": [],
   "source": [
    "original_features = ['no_of_images', 'no_of_internal_links', 'no_of_sections', 'total_links']\n",
    "derived_feature_external_link = ['no_of_external_links']\n",
    "time_features = ['day_of_week', 'time_group']\n",
    "communication_features = [col for col in features if col.startswith('communication_')]\n",
    "binned_features = [col for col in features if col.startswith('bin_')]\n",
    "sub_features = [col for col in features if col.startswith('sub -')]\n",
    "body_features = [col for col in features if col.startswith('body -')]"
   ]
  },
  {
   "cell_type": "code",
   "execution_count": 9,
   "metadata": {},
   "outputs": [
    {
     "data": {
      "text/plain": [
       "True"
      ]
     },
     "execution_count": 9,
     "metadata": {},
     "output_type": "execute_result"
    }
   ],
   "source": [
    "# Test to check if newly grouped feature contains all the features\n",
    "set(features) == set(original_features + derived_feature_external_link + time_features + communication_features \n",
    "                     + binned_features + sub_features + body_features)"
   ]
  },
  {
   "cell_type": "code",
   "execution_count": 10,
   "metadata": {},
   "outputs": [],
   "source": [
    "selected_feature_group = time_features + communication_features + binned_features + sub_features + body_features"
   ]
  },
  {
   "cell_type": "code",
   "execution_count": 11,
   "metadata": {},
   "outputs": [],
   "source": [
    "train_X, test_X, train_y, test_y = train_test_split(train[selected_feature_group], train[target_open], test_size=0.02, random_state=42)"
   ]
  },
  {
   "cell_type": "code",
   "execution_count": 12,
   "metadata": {},
   "outputs": [],
   "source": [
    "dev_X, test_X, dev_y, test_y = train_test_split(test_X, test_y, test_size=0.5, random_state=42)"
   ]
  },
  {
   "cell_type": "code",
   "execution_count": 13,
   "metadata": {},
   "outputs": [
    {
     "name": "stdout",
     "output_type": "stream",
     "text": [
      "(1002727, 229)\n",
      "(10232, 229)\n",
      "(10232, 229)\n"
     ]
    }
   ],
   "source": [
    "print(train_X.shape)\n",
    "print(dev_X.shape)\n",
    "print(test_X.shape)"
   ]
  },
  {
   "cell_type": "code",
   "execution_count": 14,
   "metadata": {},
   "outputs": [],
   "source": [
    "model = MLPClassifier(\n",
    "                        hidden_layer_sizes=(64, 16, 32, 8),\n",
    "                        activation='relu',\n",
    "                        solver='adam',\n",
    "                        alpha=0.0001,\n",
    "                        batch_size=100,\n",
    "                        max_iter=64,\n",
    "                        learning_rate_init=0.001,\n",
    "                        random_state=42,\n",
    "                        early_stopping=True,\n",
    "                        verbose=True\n",
    "                     )"
   ]
  },
  {
   "cell_type": "code",
   "execution_count": 15,
   "metadata": {},
   "outputs": [
    {
     "name": "stdout",
     "output_type": "stream",
     "text": [
      "Iteration 1, loss = 0.30348260\n",
      "Validation score: 0.898996\n",
      "Iteration 2, loss = 0.30219091\n",
      "Validation score: 0.898996\n",
      "Iteration 3, loss = 0.30200839\n",
      "Validation score: 0.898996\n"
     ]
    },
    {
     "name": "stderr",
     "output_type": "stream",
     "text": [
      "C:\\STORAGE\\Viraj\\FAST\\Anaconda\\lib\\site-packages\\sklearn\\neural_network\\multilayer_perceptron.py:566: UserWarning: Training interrupted by user.\n",
      "  warnings.warn(\"Training interrupted by user.\")\n"
     ]
    },
    {
     "data": {
      "text/plain": [
       "MLPClassifier(activation='relu', alpha=0.0001, batch_size=100, beta_1=0.9,\n",
       "       beta_2=0.999, early_stopping=True, epsilon=1e-08,\n",
       "       hidden_layer_sizes=(64, 16, 32, 8), learning_rate='constant',\n",
       "       learning_rate_init=0.001, max_iter=64, momentum=0.9,\n",
       "       nesterovs_momentum=True, power_t=0.5, random_state=42, shuffle=True,\n",
       "       solver='adam', tol=0.0001, validation_fraction=0.1, verbose=True,\n",
       "       warm_start=False)"
      ]
     },
     "execution_count": 15,
     "metadata": {},
     "output_type": "execute_result"
    }
   ],
   "source": [
    "model.fit(train_X, train_y)"
   ]
  },
  {
   "cell_type": "code",
   "execution_count": 17,
   "metadata": {},
   "outputs": [],
   "source": [
    "train_y_hat = model.predict(train_X)"
   ]
  },
  {
   "cell_type": "code",
   "execution_count": 16,
   "metadata": {},
   "outputs": [],
   "source": [
    "def evaluate_performance(y_true, y_hat):\n",
    "    print('Accuracy: ' + str(metrics.accuracy_score(y_true, y_hat)))\n",
    "    print('Recall: ' + str(metrics.recall_score(y_true, y_hat)))\n",
    "    print('ROC AUC: ' + str(metrics.roc_auc_score(y_true, y_hat)))\n",
    "    cmf = metrics.confusion_matrix(y_true, y_hat)\n",
    "    plot_confusion_matrix(cmf, [0, 1], normalize=True)"
   ]
  },
  {
   "cell_type": "code",
   "execution_count": 23,
   "metadata": {},
   "outputs": [
    {
     "name": "stdout",
     "output_type": "stream",
     "text": [
      "Accuracy: 0.899703029601\n",
      "Recall: 0.0\n",
      "Confusion matrix, without normalization\n",
      "[[644397      0]\n",
      " [ 71836      0]]\n"
     ]
    },
    {
     "data": {
      "image/png": "[encoded data removed]",
      "text/plain": [
       "<matplotlib.figure.Figure at 0x22a3f23eeb8>"
      ]
     },
     "metadata": {},
     "output_type": "display_data"
    }
   ],
   "source": [
    "evaluate_performance(train_y, train_y_hat)"
   ]
  },
  {
   "cell_type": "code",
   "execution_count": 24,
   "metadata": {},
   "outputs": [],
   "source": [
    "model = MLPClassifier(\n",
    "                        hidden_layer_sizes=(64, 16, 32, 8),\n",
    "                        activation='tanh',\n",
    "                        solver='adam',\n",
    "                        alpha=0.0001,\n",
    "                        batch_size=2048,\n",
    "                        max_iter=64,\n",
    "                        learning_rate_init=0.001,\n",
    "                        random_state=42,\n",
    "                        early_stopping=True,\n",
    "                        verbose=True\n",
    "                     )"
   ]
  },
  {
   "cell_type": "code",
   "execution_count": 25,
   "metadata": {},
   "outputs": [
    {
     "name": "stdout",
     "output_type": "stream",
     "text": [
      "Iteration 1, loss = 0.31155153\n",
      "Validation score: 0.901332\n",
      "Iteration 2, loss = 0.30211862\n",
      "Validation score: 0.901332\n",
      "Iteration 3, loss = 0.30204380\n",
      "Validation score: 0.901332\n",
      "Iteration 4, loss = 0.30200806\n",
      "Validation score: 0.901332\n",
      "Validation score did not improve more than tol=0.000100 for two consecutive epochs. Stopping.\n"
     ]
    },
    {
     "data": {
      "text/plain": [
       "MLPClassifier(activation='tanh', alpha=0.0001, batch_size=2048, beta_1=0.9,\n",
       "       beta_2=0.999, early_stopping=True, epsilon=1e-08,\n",
       "       hidden_layer_sizes=(64, 16, 32, 8), learning_rate='constant',\n",
       "       learning_rate_init=0.001, max_iter=64, momentum=0.9,\n",
       "       nesterovs_momentum=True, power_t=0.5, random_state=42, shuffle=True,\n",
       "       solver='adam', tol=0.0001, validation_fraction=0.1, verbose=True,\n",
       "       warm_start=False)"
      ]
     },
     "execution_count": 25,
     "metadata": {},
     "output_type": "execute_result"
    }
   ],
   "source": [
    "model.fit(train_X, train_y)"
   ]
  },
  {
   "cell_type": "code",
   "execution_count": 13,
   "metadata": {},
   "outputs": [],
   "source": [
    "train = None"
   ]
  },
  {
   "cell_type": "code",
   "execution_count": 17,
   "metadata": {},
   "outputs": [
    {
     "name": "stdout",
     "output_type": "stream",
     "text": [
      "Allocation: 83.19%\n",
      "Unreference: -80.63%\n",
      "Collect: 0.00%\n",
      "Overall: 2.55%\n"
     ]
    }
   ],
   "source": [
    "memory_cleaner()"
   ]
  },
  {
   "cell_type": "code",
   "execution_count": 18,
   "metadata": {},
   "outputs": [
    {
     "name": "stderr",
     "output_type": "stream",
     "text": [
      "Using TensorFlow backend.\n"
     ]
    }
   ],
   "source": [
    "import keras as k\n",
    "from keras.models import Sequential\n",
    "from keras.layers import Dense, Dropout"
   ]
  },
  {
   "cell_type": "code",
   "execution_count": 19,
   "metadata": {},
   "outputs": [],
   "source": [
    "model = Sequential()\n",
    "model.add(Dense(units=64, activation='relu', input_dim=train_X.shape[1]))\n",
    "model.add(Dense(units=1, activation='sigmoid'))"
   ]
  },
  {
   "cell_type": "code",
   "execution_count": 20,
   "metadata": {},
   "outputs": [],
   "source": [
    "model.compile(loss='binary_crossentropy',\n",
    "              optimizer='sgd',\n",
    "              metrics=['accuracy'])"
   ]
  },
  {
   "cell_type": "code",
   "execution_count": 21,
   "metadata": {},
   "outputs": [
    {
     "name": "stdout",
     "output_type": "stream",
     "text": [
      "Epoch 1/5\n",
      "1002727/1002727 [==============================] - 14s - loss: 1.2074 - acc: 0.6239    \n",
      "Epoch 2/5\n",
      "1002727/1002727 [==============================] - 12s - loss: 1.1946 - acc: 0.6371    \n",
      "Epoch 3/5\n",
      "1002727/1002727 [==============================] - 12s - loss: 1.1938 - acc: 0.6378    \n",
      "Epoch 4/5\n",
      "1002727/1002727 [==============================] - 12s - loss: 1.1935 - acc: 0.6378    \n",
      "Epoch 5/5\n",
      "1002727/1002727 [==============================] - 12s - loss: 1.1933 - acc: 0.6378    \n"
     ]
    },
    {
     "data": {
      "text/plain": [
       "<keras.callbacks.History at 0x1ff05401438>"
      ]
     },
     "execution_count": 21,
     "metadata": {},
     "output_type": "execute_result"
    }
   ],
   "source": [
    "model.fit(train_X.as_matrix(), train_y.as_matrix(), epochs=5, batch_size=2048, class_weight={0: 1, 1: 10})"
   ]
  },
  {
   "cell_type": "code",
   "execution_count": 22,
   "metadata": {},
   "outputs": [
    {
     "name": "stdout",
     "output_type": "stream",
     "text": [
      " 7584/10232 [=====================>........] - ETA: 0s"
     ]
    }
   ],
   "source": [
    "y_hat = model.predict_classes(test_X.as_matrix())"
   ]
  },
  {
   "cell_type": "code",
   "execution_count": 23,
   "metadata": {},
   "outputs": [
    {
     "name": "stdout",
     "output_type": "stream",
     "text": [
      "Accuracy: 0.639659890539\n",
      "Recall: 0.696498054475\n",
      "ROC AUC: 0.664904829063\n",
      "Normalized confusion matrix\n",
      "[[ 0.6333116   0.3666884 ]\n",
      " [ 0.30350195  0.69649805]]\n"
     ]
    },
    {
     "data": {
      "image/png": "[encoded data removed]",
      "text/plain": [
       "<matplotlib.figure.Figure at 0x1ff0541af28>"
      ]
     },
     "metadata": {},
     "output_type": "display_data"
    }
   ],
   "source": [
    "evaluate_performance(test_y, y_hat)"
   ]
  },
  {
   "cell_type": "code",
   "execution_count": 24,
   "metadata": {},
   "outputs": [],
   "source": [
    "model = Sequential()\n",
    "model.add(Dense(units=256, activation='relu', input_dim=train_X.shape[1]))\n",
    "model.add(Dropout(0.1))\n",
    "model.add(Dense(units=256, activation='relu'))\n",
    "model.add(Dropout(0.2))\n",
    "model.add(Dense(units=128, activation='tanh'))\n",
    "model.add(Dropout(0.2))\n",
    "model.add(Dense(units=64, activation='relu'))\n",
    "model.add(Dropout(0.2))\n",
    "model.add(Dense(units=128, activation='relu'))\n",
    "model.add(Dropout(0.1))\n",
    "model.add(Dense(units=64, activation='tanh'))\n",
    "model.add(Dropout(0.5))\n",
    "model.add(Dense(units=16, activation='tanh'))\n",
    "model.add(Dense(units=1, activation='sigmoid'))"
   ]
  },
  {
   "cell_type": "code",
   "execution_count": 25,
   "metadata": {},
   "outputs": [],
   "source": [
    "model.compile(loss='binary_crossentropy',\n",
    "              optimizer='sgd',\n",
    "              metrics=['accuracy'])"
   ]
  },
  {
   "cell_type": "code",
   "execution_count": 26,
   "metadata": {},
   "outputs": [
    {
     "name": "stdout",
     "output_type": "stream",
     "text": [
      "Epoch 1/5\n",
      "1002727/1002727 [==============================] - 70s - loss: 1.2645 - acc: 0.5461    \n",
      "Epoch 2/5\n",
      "1002727/1002727 [==============================] - 74s - loss: 1.2253 - acc: 0.6067    \n",
      "Epoch 3/5\n",
      "1002727/1002727 [==============================] - 75s - loss: 1.2164 - acc: 0.6197    \n",
      "Epoch 4/5\n",
      "1002727/1002727 [==============================] - 63s - loss: 1.2120 - acc: 0.6255    \n",
      "Epoch 5/5\n",
      "1002727/1002727 [==============================] - 59s - loss: 1.2094 - acc: 0.6285    \n"
     ]
    },
    {
     "data": {
      "text/plain": [
       "<keras.callbacks.History at 0x1feed9214a8>"
      ]
     },
     "execution_count": 26,
     "metadata": {},
     "output_type": "execute_result"
    }
   ],
   "source": [
    "model.fit(train_X.as_matrix(), train_y.as_matrix(), epochs=5, batch_size=2048, class_weight={0: 1, 1: 10})"
   ]
  },
  {
   "cell_type": "code",
   "execution_count": 27,
   "metadata": {},
   "outputs": [
    {
     "name": "stdout",
     "output_type": "stream",
     "text": [
      " 9952/10232 [============================>.] - ETA: 0s"
     ]
    }
   ],
   "source": [
    "y_hat = model.predict_classes(test_X.as_matrix())"
   ]
  },
  {
   "cell_type": "code",
   "execution_count": 28,
   "metadata": {},
   "outputs": [
    {
     "name": "stdout",
     "output_type": "stream",
     "text": [
      "Accuracy: 0.639659890539\n",
      "Recall: 0.696498054475\n",
      "ROC AUC: 0.664904829063\n",
      "Normalized confusion matrix\n",
      "[[ 0.6333116   0.3666884 ]\n",
      " [ 0.30350195  0.69649805]]\n"
     ]
    },
    {
     "data": {
      "image/png": "[encoded data removed]",
      "text/plain": [
       "<matplotlib.figure.Figure at 0x1ff057296a0>"
      ]
     },
     "metadata": {},
     "output_type": "display_data"
    }
   ],
   "source": [
    "evaluate_performance(test_y, y_hat)"
   ]
  },
  {
   "cell_type": "code",
   "execution_count": 29,
   "metadata": {},
   "outputs": [
    {
     "name": "stdout",
     "output_type": "stream",
     "text": [
      "Epoch 1/10\n",
      "1002727/1002727 [==============================] - 68s - loss: 1.2071 - acc: 0.6309    \n",
      "Epoch 2/10\n",
      "1002727/1002727 [==============================] - 63s - loss: 1.2058 - acc: 0.6324    \n",
      "Epoch 3/10\n",
      "1002727/1002727 [==============================] - 57s - loss: 1.2046 - acc: 0.6342    \n",
      "Epoch 4/10\n",
      "1002727/1002727 [==============================] - 58s - loss: 1.2025 - acc: 0.6343    \n",
      "Epoch 5/10\n",
      "1002727/1002727 [==============================] - 58s - loss: 1.2024 - acc: 0.6347    \n",
      "Epoch 6/10\n",
      "1002727/1002727 [==============================] - 56s - loss: 1.2011 - acc: 0.6349    \n",
      "Epoch 7/10\n",
      "1002727/1002727 [==============================] - 58s - loss: 1.2012 - acc: 0.6350    \n",
      "Epoch 8/10\n",
      "1002727/1002727 [==============================] - 58s - loss: 1.2007 - acc: 0.6355    \n",
      "Epoch 9/10\n",
      "1002727/1002727 [==============================] - 59s - loss: 1.1999 - acc: 0.6353    \n",
      "Epoch 10/10\n",
      "1002727/1002727 [==============================] - 57s - loss: 1.1993 - acc: 0.6354    \n"
     ]
    },
    {
     "data": {
      "text/plain": [
       "<keras.callbacks.History at 0x1feebb54e80>"
      ]
     },
     "execution_count": 29,
     "metadata": {},
     "output_type": "execute_result"
    }
   ],
   "source": [
    "model.fit(train_X.as_matrix(), train_y.as_matrix(), epochs=10, batch_size=2048, class_weight={0: 1, 1: 10})"
   ]
  },
  {
   "cell_type": "code",
   "execution_count": 30,
   "metadata": {},
   "outputs": [
    {
     "name": "stdout",
     "output_type": "stream",
     "text": [
      " 9696/10232 [===========================>..] - ETA: 0s"
     ]
    }
   ],
   "source": [
    "y_hat = model.predict_classes(test_X.as_matrix())"
   ]
  },
  {
   "cell_type": "code",
   "execution_count": 31,
   "metadata": {},
   "outputs": [
    {
     "name": "stdout",
     "output_type": "stream",
     "text": [
      "Accuracy: 0.639659890539\n",
      "Recall: 0.696498054475\n",
      "ROC AUC: 0.664904829063\n",
      "Normalized confusion matrix\n",
      "[[ 0.6333116   0.3666884 ]\n",
      " [ 0.30350195  0.69649805]]\n"
     ]
    },
    {
     "data": {
      "image/png": "[encoded data removed]",
      "text/plain": [
       "<matplotlib.figure.Figure at 0x1ff09d23c88>"
      ]
     },
     "metadata": {},
     "output_type": "display_data"
    }
   ],
   "source": [
    "evaluate_performance(test_y, y_hat)"
   ]
  },
  {
   "cell_type": "code",
   "execution_count": null,
   "metadata": {},
   "outputs": [],
   "source": []
  }
 ],
 "metadata": {
  "kernelspec": {
   "display_name": "Python 3",
   "language": "python",
   "name": "python3"
  },
  "language_info": {
   "codemirror_mode": {
    "name": "ipython",
    "version": 3
   },
   "file_extension": ".py",
   "mimetype": "text/x-python",
   "name": "python",
   "nbconvert_exporter": "python",
   "pygments_lexer": "ipython3",
   "version": "3.6.1"
  }
 },
 "nbformat": 4,
 "nbformat_minor": 2
}
